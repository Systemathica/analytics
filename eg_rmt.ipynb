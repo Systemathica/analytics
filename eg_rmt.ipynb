{
 "cells": [
  {
   "cell_type": "code",
   "execution_count": 1,
   "id": "initial_id",
   "metadata": {
    "collapsed": true,
    "ExecuteTime": {
     "end_time": "2024-01-17T21:34:34.487017700Z",
     "start_time": "2024-01-17T21:34:34.474064900Z"
    }
   },
   "outputs": [],
   "source": [
    "import pandas as pd\n",
    "import numpy as np\n",
    "import matplotlib.pyplot as plt\n",
    "import seaborn as sns\n",
    "import os\n",
    "import re"
   ]
  },
  {
   "cell_type": "code",
   "outputs": [],
   "source": [
    "worksp = r'C:\\Users\\raman\\OneDrive\\MSx\\CMC\\Interview Prep'\n",
    "\n",
    "# set the working directory to the location of the data files\n",
    "os.chdir(worksp)"
   ],
   "metadata": {
    "collapsed": false,
    "ExecuteTime": {
     "end_time": "2024-01-17T21:36:13.935275100Z",
     "start_time": "2024-01-17T21:36:13.918332300Z"
    }
   },
   "id": "8cbe0b50f7521e65",
   "execution_count": 2
  },
  {
   "cell_type": "code",
   "outputs": [
    {
     "name": "stdout",
     "output_type": "stream",
     "text": [
      "-4.121883666235887e-06\n"
     ]
    }
   ],
   "source": [
    "# create a NxT matrix of sntadard normal distributed random numbers\n",
    "N = 100\n",
    "T = 100000\n",
    "Zij = np.random.randn(N,T)\n",
    "\n",
    "\n",
    "X = Zij.copy()\n",
    "\n",
    "def corr_analysis(corr_matrix):\n",
    "    # calculate the correlation matrix\n",
    "    corr = np.corrcoef(corr_matrix)\n",
    "\n",
    "    # # create heatmap of the numpy ndarray corr\n",
    "    # sns.heatmap(corr, annot=True, cmap='coolwarm')\n",
    "    \n",
    "    # set diagonal elements to NaN\n",
    "    np.fill_diagonal(corr, np.nan)\n",
    "    \n",
    "    # calculate the average of corr ignoring the NaNs\n",
    "    print(np.nanmean(corr))\n",
    "    \n",
    "corr_analysis(X)"
   ],
   "metadata": {
    "collapsed": false,
    "ExecuteTime": {
     "end_time": "2024-01-17T21:55:02.376989400Z",
     "start_time": "2024-01-17T21:55:01.378325300Z"
    }
   },
   "id": "c49f9ebd008ebd25",
   "execution_count": 35
  },
  {
   "cell_type": "code",
   "outputs": [
    {
     "name": "stdout",
     "output_type": "stream",
     "text": [
      "0.4997794500185215\n"
     ]
    }
   ],
   "source": [
    "# create a 1xT matrix of standard normal distributed random numbers\n",
    "Zj = np.random.randn(1,T)\n",
    "\n",
    "# convert Zj to a matrix of size 1xT\n",
    "Zj = np.matrix(Zj)\n",
    "\n",
    "rho = 0.5\n",
    "# add the 1xT matrix Zj to each row of Zij\n",
    "X2 = np.sqrt(rho)*Zj + np.sqrt(1-rho)*Zij\n",
    "\n",
    "corr_analysis(X2)\n"
   ],
   "metadata": {
    "collapsed": false,
    "ExecuteTime": {
     "end_time": "2024-01-17T22:09:13.217922200Z",
     "start_time": "2024-01-17T22:09:13.012609100Z"
    }
   },
   "id": "fb4020651d9b9c14",
   "execution_count": 41
  },
  {
   "cell_type": "code",
   "outputs": [
    {
     "name": "stdout",
     "output_type": "stream",
     "text": [
      "[1.05877592 0.9423753  1.05775479 0.94403422 1.05460711 1.05251925\n",
      " 1.05153284 0.94721805 1.04988662 0.94870104 0.94946133 0.9510435\n",
      " 0.95165299 1.04798071 1.04658441 1.04606142 1.04450256 0.95289475\n",
      " 0.95545539 1.04284735 1.04264989 0.95599517 0.95690719 1.04033482\n",
      " 1.03961064 1.03766187 1.03666879 0.96031767 0.96058273 0.9616806\n",
      " 0.96308474 1.03569701 1.03378775 1.03272621 1.031997   0.96365943\n",
      " 1.03076172 1.02806797 1.02817355 0.96480733 0.96551377 0.96747142\n",
      " 0.96873871 1.02557895 0.97018913 0.97159564 1.02499349 0.97290207\n",
      " 1.02356623 1.02289099 1.02237861 0.97483761 1.02047202 1.01984999\n",
      " 1.01840108 1.01848725 0.97568359 0.97632067 0.97677701 0.978296\n",
      " 1.01653821 1.01642642 0.97955504 1.01444192 1.01422481 0.98023154\n",
      " 0.98069237 1.01269026 0.98241962 1.01213218 0.98116625 1.01163112\n",
      " 0.9840997  1.00988242 0.98457896 0.98671118 0.98500784 0.98851896\n",
      " 0.98967422 1.00451625 1.00678574 1.00768676 1.00774213 1.00373337\n",
      " 0.99310233 0.99470235 0.99421361 0.98548726 1.00195602 0.99885904\n",
      " 1.00100664 0.9980405  1.00634833 0.99692707 0.99156068 0.99172502\n",
      " 0.99582301 1.00013056 1.00257448 0.99045002]\n",
      "6.364055986147173\n"
     ]
    },
    {
     "name": "stderr",
     "output_type": "stream",
     "text": [
      "C:\\Users\\raman\\AppData\\Local\\Temp\\ipykernel_8400\\2089846800.py:15: UserWarning: \n",
      "\n",
      "`distplot` is a deprecated function and will be removed in seaborn v0.14.0.\n",
      "\n",
      "Please adapt your code to use either `displot` (a figure-level function with\n",
      "similar flexibility) or `histplot` (an axes-level function for histograms).\n",
      "\n",
      "For a guide to updating your code to use the new functions, please see\n",
      "https://gist.github.com/mwaskom/de44147ed2974457ad6372750bbe5751\n",
      "\n",
      "  sns.distplot(eigvals, hist=True, kde=True,\n"
     ]
    },
    {
     "data": {
      "text/plain": "<Figure size 640x480 with 1 Axes>",
      "image/png": "[encoded data removed]"
     },
     "metadata": {},
     "output_type": "display_data"
    }
   ],
   "source": [
    "# compute the Hellinger distance between two distributions\n",
    "def hellinger(p, q):\n",
    "    return np.sqrt(np.sum((np.sqrt(p) - np.sqrt(q)) ** 2)) / np.sqrt(2)\n",
    "\n",
    "# plot the distribution of eigenvalues of the correlation matrix\n",
    "def plot_eigenvalues(corr_matrix):\n",
    "    # calculate the correlation matrix\n",
    "    corr = np.corrcoef(corr_matrix)\n",
    "    \n",
    "    # calculate the eigenvalues of the correlation matrix\n",
    "    eigvals = np.linalg.eigvals(corr)\n",
    "    print(eigvals)\n",
    "    \n",
    "    # plot the eigenvalues and the probability density function\n",
    "    sns.distplot(eigvals, hist=True, kde=True, \n",
    "                 bins=int(180/5), color = 'darkblue', \n",
    "                 hist_kws={'edgecolor':'black'},\n",
    "                 kde_kws={'linewidth': 4})\n",
    "    \n",
    "    # calculate the Hellinger distance between the eigenvalues and the uniform distribution\n",
    "    print(hellinger(eigvals, np.ones(len(eigvals))/len(eigvals)))\n",
    "    \n",
    "plot_eigenvalues(X)"
   ],
   "metadata": {
    "collapsed": false,
    "ExecuteTime": {
     "end_time": "2024-01-17T22:37:45.173833500Z",
     "start_time": "2024-01-17T22:37:44.500065900Z"
    }
   },
   "id": "f0dc923b9557e78b",
   "execution_count": 46
  },
  {
   "cell_type": "code",
   "outputs": [],
   "source": [
    "# create the Marchenko-Pastur distribution function for a given value of gamma and sigma\n",
    "def marchenko_pastur(gamma, sigma):\n",
    "    # define the upper and lower bounds of the distribution\n",
    "    lower = sigma**2 * (1 - np.sqrt(gamma))**2\n",
    "    upper = sigma**2 * (1 + np.sqrt(gamma))**2\n",
    "    \n",
    "    # define the function\n",
    "    def f(x):\n",
    "        return np.sqrt((upper - x) * (x - lower)) / (sigma * x * np.pi * gamma)\n",
    "    \n",
    "    return f"
   ],
   "metadata": {
    "collapsed": false
   },
   "id": "40082cfd68ab58ed"
  }
 ],
 "metadata": {
  "kernelspec": {
   "display_name": "Python 3",
   "language": "python",
   "name": "python3"
  },
  "language_info": {
   "codemirror_mode": {
    "name": "ipython",
    "version": 2
   },
   "file_extension": ".py",
   "mimetype": "text/x-python",
   "name": "python",
   "nbconvert_exporter": "python",
   "pygments_lexer": "ipython2",
   "version": "2.7.6"
  }
 },
 "nbformat": 4,
 "nbformat_minor": 5
}
