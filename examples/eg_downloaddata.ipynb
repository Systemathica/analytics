{
 "cells": [
  {
   "cell_type": "code",
   "execution_count": 2,
   "id": "d3ea9b28195aa8ed",
   "metadata": {
    "collapsed": false,
    "ExecuteTime": {
     "end_time": "2024-06-23T21:15:41.360158600Z",
     "start_time": "2024-06-23T21:15:41.334556800Z"
    }
   },
   "outputs": [],
   "source": [
    "import quandl\n",
    "import pandas as pd\n",
    "import yfinance as yf\n",
    "from zputils.dataframes.subsetting import Subset_g_Df\n",
    "from zpanalytics.returns.basic import Returns_g_Index\n",
    "from zputils.filesrw.xls import XLS_g_DoDf\n",
    "\n",
    "import os"
   ]
  },
  {
   "cell_type": "code",
   "outputs": [],
   "source": [
    "worksp = r'C:\\Users\\raman\\OneDrive\\MSx\\CMC\\Applications\\Citadel\\Screening'\n",
    "\n",
    "# set the working directory to the location of the data files\n",
    "os.chdir(worksp)"
   ],
   "metadata": {
    "collapsed": false,
    "ExecuteTime": {
     "end_time": "2024-01-29T22:43:45.046104700Z",
     "start_time": "2024-01-29T22:43:45.030102100Z"
    }
   },
   "id": "1c9369bfaf1abd86",
   "execution_count": 67
  },
  {
   "cell_type": "code",
   "outputs": [],
   "source": [
    "\n",
    "# Set your Quandl API key (if you have one)\n",
    "# quandl.ApiConfig.api_key = 'YOUR_API_KEY'\n",
    "\n",
    "# Define the list of tickers\n",
    "tickers = [\n",
    "    'AAPL', 'MSFT', 'GOOGL', 'AMZN', 'FB', 'TSLA', 'BRK.B', 'TSM', 'V', 'JPM', \n",
    "    # 'JNJ', 'WMT', 'BABA', 'PG', 'UNH', 'DIS', 'NVDA', 'HD', 'PYPL', 'BAC', \n",
    "    # 'VZ', 'ADBE', 'CMCSA', 'NFLX', 'KO', 'NKE', 'MRK', 'PEP', 'T', 'PFE', \n",
    "    # 'INTC', 'ORCL', 'CSCO', 'ABBV', 'ABT', 'CRM', 'AVGO', 'XOM', 'ACN', 'QCOM', \n",
    "    # 'COST', 'CVX', 'LLY', 'MCD', 'DHR', 'HON', 'AMD', 'LIN', 'UNP', 'UPS', \n",
    "    # 'TXN', 'NEE', 'BMY', 'LOW', 'AMGN', 'IBM', 'SBUX', 'MS', 'CAT', 'BA', \n",
    "    # 'GS', 'MMM', 'BLK', 'TGT', 'CHTR', 'AXP', 'DE', 'LMT', 'GE', 'CVS', \n",
    "    # 'AMAT', 'MO', 'MDT', 'SYK', 'GILD', 'BKNG', 'C', 'ANTM', 'CI', 'USB', \n",
    "    # 'TMO', 'MU', 'BDX', 'ISRG', 'GM', 'SCHW', 'ADP', 'CSX', 'EL', 'SPGI', \n",
    "    # 'PLD', 'NSC', 'EW', 'FIS', 'FDX', 'ILMN', 'INTU', 'RTX', 'REGN', 'ADSK'\n",
    "]\n",
    "\n",
    "benchmark_tickers = ['SPY']\n",
    "\n",
    "all_tickers = tickers + benchmark_tickers\n",
    "\n",
    "# Define start and end date\n",
    "start_date = '2021-12-23'\n",
    "end_date = '2023-09-30'"
   ],
   "metadata": {
    "collapsed": false,
    "ExecuteTime": {
     "end_time": "2024-01-29T22:43:46.888099100Z",
     "start_time": "2024-01-29T22:43:46.842099500Z"
    }
   },
   "id": "8acd205724068ca8",
   "execution_count": 68
  },
  {
   "cell_type": "code",
   "outputs": [
    {
     "name": "stderr",
     "output_type": "stream",
     "text": [
      "[*********************100%%**********************]  11 of 11 completed\n",
      "ERROR:yfinance:\n",
      "2 Failed downloads:\n",
      "ERROR:yfinance:['BRK.B', 'FB']: Exception('%ticker%: No timezone found, symbol may be delisted')\n"
     ]
    }
   ],
   "source": [
    "# Download stock data\n",
    "raw_data = yf.download(all_tickers, start=start_date, end=end_date)\n",
    "raw_data = raw_data.dropna(axis=1, how='all')"
   ],
   "metadata": {
    "collapsed": false,
    "ExecuteTime": {
     "end_time": "2024-01-29T22:43:52.867373100Z",
     "start_time": "2024-01-29T22:43:51.639856100Z"
    }
   },
   "id": "a35dc930d81e9f0c",
   "execution_count": 69
  },
  {
   "cell_type": "code",
   "outputs": [
    {
     "name": "stdout",
     "output_type": "stream",
     "text": [
      "Attribute    Adj Close                                                  \\\n",
      "Ticker            AAPL        AMZN       GOOGL         JPM        MSFT   \n",
      "Date                                                                     \n",
      "2021-12-23  174.288635  171.068497  146.916504  147.128296  328.668732   \n",
      "2021-12-27  178.292862  169.669495  147.906494  147.970352  336.289154   \n",
      "2021-12-28  177.264587  170.660995  146.686996  148.419403  335.110718   \n",
      "2021-12-29  177.353607  169.201004  146.654999  148.344574  335.798126   \n",
      "2021-12-30  176.186951  168.644501  146.200500  148.269730  333.215454   \n",
      "\n",
      "Attribute                                                        Close  ...  \\\n",
      "Ticker             SPY        TSLA         TSM           V        AAPL  ...   \n",
      "Date                                                                    ...   \n",
      "2021-12-23  456.154236  355.666656  115.877769  213.299850  176.279999  ...   \n",
      "2021-12-27  462.609802  364.646667  117.817375  214.294357  180.330002  ...   \n",
      "2021-12-28  462.231781  362.823334  117.202850  214.707932  179.289993  ...   \n",
      "2021-12-29  462.823090  362.063324  116.578720  214.826080  179.380005  ...   \n",
      "2021-12-30  461.543610  356.779999  115.628113  214.530701  178.199997  ...   \n",
      "\n",
      "Attribute         Open    Volume                                         \\\n",
      "Ticker               V      AAPL      AMZN     GOOGL      JPM      MSFT   \n",
      "Date                                                                      \n",
      "2021-12-23  218.440002  68356600  36788000  26384000  8055200  19617800   \n",
      "2021-12-27  217.679993  74919600  58688000  15976000  6188100  19947000   \n",
      "2021-12-28  216.009995  79144300  54638000  18200000  6342300  15661500   \n",
      "2021-12-29  217.759995  62348900  35754000  17788000  6398900  15042000   \n",
      "2021-12-30  217.970001  59773000  37584000  15688000  6948200  15994500   \n",
      "\n",
      "Attribute                                         \n",
      "Ticker           SPY      TSLA      TSM        V  \n",
      "Date                                              \n",
      "2021-12-23  56439700  92713200  6512500  4798200  \n",
      "2021-12-27  56808600  71145900  6309900  4818400  \n",
      "2021-12-28  47274600  60324000  6321000  4279800  \n",
      "2021-12-29  54503000  56154000  5847700  3223100  \n",
      "2021-12-30  55329000  47040900  4187800  3812800  \n",
      "\n",
      "[5 rows x 54 columns]\n"
     ]
    }
   ],
   "source": [
    "raw_data.columns.names = ['Attribute', 'Ticker']\n",
    "# Display the data\n",
    "print(raw_data.head())"
   ],
   "metadata": {
    "collapsed": false,
    "ExecuteTime": {
     "end_time": "2024-01-29T22:43:57.838614Z",
     "start_time": "2024-01-29T22:43:57.789608100Z"
    }
   },
   "id": "300f4dcf6f0988ec",
   "execution_count": 70
  },
  {
   "cell_type": "code",
   "outputs": [
    {
     "name": "stdout",
     "output_type": "stream",
     "text": [
      "Ticker          AAPL      AMZN     GOOGL       JPM      MSFT      TSLA  \\\n",
      "2021-12-23       NaN       NaN       NaN       NaN       NaN       NaN   \n",
      "2021-12-27  0.022975 -0.008178  0.006738  0.005723  0.023186  0.025248   \n",
      "2021-12-28 -0.005767  0.005844 -0.008245  0.003035 -0.003504 -0.005000   \n",
      "2021-12-29  0.000502 -0.008555 -0.000218 -0.000504  0.002051 -0.002095   \n",
      "2021-12-30 -0.006578 -0.003289 -0.003099 -0.000505 -0.007691 -0.014592   \n",
      "\n",
      "Ticker           TSM         V  \n",
      "2021-12-23       NaN       NaN  \n",
      "2021-12-27  0.016738  0.004662  \n",
      "2021-12-28 -0.005216  0.001930  \n",
      "2021-12-29 -0.005325  0.000550  \n",
      "2021-12-30 -0.008154 -0.001375  \n",
      "Ticker           SPY\n",
      "2021-12-23       NaN\n",
      "2021-12-27  0.014152\n",
      "2021-12-28 -0.000817\n",
      "2021-12-29  0.001279\n",
      "2021-12-30 -0.002765\n"
     ]
    }
   ],
   "source": [
    "data = Subset_g_Df(dict(by={'Attribute':['Adj Close']}))(raw_data)\n",
    "data.columns = data.columns.droplevel('Attribute')\n",
    "\n",
    "returns = Returns_g_Index()(data)\n",
    "returns.columns = pd.MultiIndex.from_product([returns.columns])\n",
    "returns.index.name = None\n",
    "\n",
    "# remove benchmark returns\n",
    "stock_returns = returns.drop(columns=benchmark_tickers, level='Ticker')\n",
    "\n",
    "# extract benchmark returns\n",
    "benchmark_returns = returns[benchmark_tickers]\n",
    "\n",
    "print(stock_returns.head())\n",
    "print(benchmark_returns.head())"
   ],
   "metadata": {
    "collapsed": false,
    "ExecuteTime": {
     "end_time": "2024-01-29T22:44:00.408445700Z",
     "start_time": "2024-01-29T22:44:00.358444400Z"
    }
   },
   "id": "755b9f71f2444cc7",
   "execution_count": 71
  },
  {
   "cell_type": "code",
   "outputs": [
    {
     "name": "stdout",
     "output_type": "stream",
     "text": [
      "Manager            0         1         2         3         4         0  \\\n",
      "Ticker          AAPL      AAPL      AAPL      AAPL      AAPL      AMZN   \n",
      "2022-01-01  0.109140  0.275281 -0.041604 -0.029819  0.089087  0.159396   \n",
      "2022-02-01  0.099363  0.077601  0.394251  0.003844  0.470378  0.144146   \n",
      "2022-03-01  0.090736  0.168017  0.154329  0.020704  0.136752  0.157688   \n",
      "2022-04-01  0.200829  0.225983  0.113674  0.164526 -0.011893  0.117201   \n",
      "2022-05-01  0.148131  0.447181  0.074776  0.264431 -0.000712  0.077283   \n",
      "\n",
      "Manager            1         2         3         4  ...         0         1  \\\n",
      "Ticker          AMZN      AMZN      AMZN      AMZN  ...       TSM       TSM   \n",
      "2022-01-01  0.069494  0.160446  0.194882  0.126321  ...  0.075542 -0.041306   \n",
      "2022-02-01  0.106889  0.055709  0.076707  0.248727  ...  0.013218  0.012967   \n",
      "2022-03-01  0.320854 -0.064744  0.131367  0.029365  ...  0.233475  0.044078   \n",
      "2022-04-01  0.049042  0.136852  0.137321  0.203581  ... -0.062856  0.182855   \n",
      "2022-05-01 -0.013082  0.350823  0.151023  0.412511  ... -0.051065  0.499695   \n",
      "\n",
      "Manager            2         3         4         0         1         2  \\\n",
      "Ticker           TSM       TSM       TSM         V         V         V   \n",
      "2022-01-01  0.068141  0.033192  0.250778  0.212735 -0.035598  0.147491   \n",
      "2022-02-01  0.396979  0.333943  0.064747 -0.033836 -0.015887 -0.041759   \n",
      "2022-03-01  0.211836  0.087754  0.185433 -0.065060 -0.001864  0.299632   \n",
      "2022-04-01  0.072985 -0.010119  0.104479  0.042602  0.192851  0.207004   \n",
      "2022-05-01  0.184620  0.074622 -0.070564  0.050104  0.030025  0.023872   \n",
      "\n",
      "Manager            3         4  \n",
      "Ticker             V         V  \n",
      "2022-01-01  0.252737  0.163921  \n",
      "2022-02-01  0.119003 -0.040986  \n",
      "2022-03-01  0.222712  0.134896  \n",
      "2022-04-01  0.180996 -0.056278  \n",
      "2022-05-01  0.007912  0.134575  \n",
      "\n",
      "[5 rows x 40 columns]\n"
     ]
    }
   ],
   "source": [
    "# generate a dataframe of sample portfolio weights for N portfolio managers for the tickers in the returns dataframe\n",
    "# each row is a portfolio manager, each column is a ticker\n",
    "# each value is the weight of the ticker in the portfolio, the sum of all positive weights is 1.3 and all negative weights is -0.3 in each row\n",
    "\n",
    "import numpy as np\n",
    "import pandas as pd\n",
    "\n",
    "np.random.seed(0)\n",
    "N = 5\n",
    "\n",
    "# end of month days for the period\n",
    "days = pd.date_range(start_date, end_date, freq='M')\n",
    "portfolio = pd.DataFrame()\n",
    "for day in days:\n",
    "    weights = np.random.rand(N, len(stock_returns.columns))*1.6 - 0.3\n",
    "    weights = pd.DataFrame(weights, columns=stock_returns.columns)\n",
    "    weights = weights.div(weights.sum(axis=1), axis=0)\n",
    "    \n",
    "    # name the current index as 'Manager'\n",
    "    weights.index.name = 'Manager'\n",
    "    \n",
    "    # add the day as a new index level\n",
    "    weights = weights.set_index(pd.Index([day]*N, name='Date'), append=True)\n",
    "    \n",
    "    # add the weights for the current day to the portfolio dataframe\n",
    "    portfolio = pd.concat([portfolio, weights], axis=0)\n",
    "    \n",
    "# pivot the portfolio Dataframe to have Manager and Ticker as columns and Date as index\n",
    "portfolio = portfolio.unstack('Manager')\n",
    "portfolio = portfolio.swaplevel(axis=1)\n",
    "portfolio.index = portfolio.index+pd.offsets.Day(1)\n",
    "portfolio.index.name = None\n",
    "    \n",
    "print(portfolio.head())"
   ],
   "metadata": {
    "collapsed": false,
    "ExecuteTime": {
     "end_time": "2024-01-29T22:44:07.284551200Z",
     "start_time": "2024-01-29T22:44:07.091551300Z"
    }
   },
   "id": "e31c8af1333f99",
   "execution_count": 72
  },
  {
   "cell_type": "code",
   "outputs": [
    {
     "name": "stdout",
     "output_type": "stream",
     "text": [
      "            Mkt-RF     SMB     HML     RMW     CMA   RF\n",
      "2021-12-23  0.0071  0.0029 -0.0048 -0.0036 -0.0039  0.0\n",
      "2021-12-27  0.0122 -0.0013  0.0029  0.0097  0.0048  0.0\n",
      "2021-12-28 -0.0027 -0.0041  0.0081  0.0084  0.0020  0.0\n",
      "2021-12-29  0.0006 -0.0003  0.0017  0.0069  0.0000  0.0\n",
      "2021-12-30 -0.0015  0.0008 -0.0040 -0.0083 -0.0042  0.0\n"
     ]
    }
   ],
   "source": [
    "factors = pd.read_csv(f'{worksp}\\F-F_Research_Data_5_Factors_2x3_daily.csv', skiprows=3, index_col=0, parse_dates=True)\n",
    "factors = factors.truncate(before=start_date, after=end_date)/100.0\n",
    "print(factors.head())"
   ],
   "metadata": {
    "collapsed": false,
    "ExecuteTime": {
     "end_time": "2024-01-29T22:44:14.974482Z",
     "start_time": "2024-01-29T22:44:14.862484600Z"
    }
   },
   "id": "d1b3f3fc28a8792",
   "execution_count": 73
  },
  {
   "cell_type": "code",
   "outputs": [
    {
     "name": "stdout",
     "output_type": "stream",
     "text": [
      "Ticker     AAPL AMZN GOOGL  JPM MSFT TSLA  TSM    V\n",
      "2022-01-01  0.2  0.2   0.2  0.2  0.2  0.2  0.2  0.2\n",
      "2022-02-01  0.2  0.2   0.2  0.2  0.2  0.2  0.2  0.2\n",
      "2022-03-01  0.2  0.2   0.2  0.2  0.2  0.2  0.2  0.2\n",
      "2022-04-01  0.2  0.2   0.2  0.2  0.2  0.2  0.2  0.2\n",
      "2022-05-01  0.2  0.2   0.2  0.2  0.2  0.2  0.2  0.2\n"
     ]
    }
   ],
   "source": [
    "# create a benchmark portfolio with market cap weights\n",
    "benchmark_portfolio = pd.DataFrame(1.0/N, index=portfolio.index, columns=stock_returns.columns)\n",
    "print(benchmark_portfolio.head())"
   ],
   "metadata": {
    "collapsed": false,
    "ExecuteTime": {
     "end_time": "2024-01-29T22:44:52.296349Z",
     "start_time": "2024-01-29T22:44:52.278347700Z"
    }
   },
   "id": "84727ff0d46b1ddc",
   "execution_count": 75
  },
  {
   "cell_type": "code",
   "outputs": [],
   "source": [
    "_ = XLS_g_DoDf(dict(fpath=(worksp, 'Data')))({'Stock Returns':stock_returns, 'Benchmark Returns':benchmark_returns,\n",
    "                                              'Factors':factors, 'Portfolio Weights':portfolio, 'Benchmarkt Weights':benchmark_portfolio})"
   ],
   "metadata": {
    "collapsed": false,
    "ExecuteTime": {
     "end_time": "2024-01-29T22:44:55.407364700Z",
     "start_time": "2024-01-29T22:44:54.485355200Z"
    }
   },
   "id": "7b070b11409ff298",
   "execution_count": 76
  }
 ],
 "metadata": {
  "kernelspec": {
   "display_name": "Python 3",
   "language": "python",
   "name": "python3"
  },
  "language_info": {
   "codemirror_mode": {
    "name": "ipython",
    "version": 2
   },
   "file_extension": ".py",
   "mimetype": "text/x-python",
   "name": "python",
   "nbconvert_exporter": "python",
   "pygments_lexer": "ipython2",
   "version": "2.7.6"
  }
 },
 "nbformat": 4,
 "nbformat_minor": 5
}
