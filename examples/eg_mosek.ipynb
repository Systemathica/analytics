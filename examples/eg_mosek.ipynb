{
 "cells": [
  {
   "cell_type": "code",
   "execution_count": 5,
   "id": "initial_id",
   "metadata": {
    "collapsed": true,
    "ExecuteTime": {
     "end_time": "2024-02-17T21:14:15.645582700Z",
     "start_time": "2024-02-17T21:14:15.620583Z"
    }
   },
   "outputs": [],
   "source": [
    "import mosek as mo\n",
    "import numpy as np\n",
    "import sys"
   ]
  },
  {
   "cell_type": "code",
   "outputs": [],
   "source": [
    "# Expected returns and covariance matrix\n",
    "m = np.array(\n",
    "    [0.0720, 0.1552, 0.1754, 0.0898, 0.4290, 0.3929, 0.3217, 0.1838]\n",
    " )\n",
    "S = np.array([\n",
    "     [0.0946, 0.0374, 0.0349, 0.0348, 0.0542, 0.0368, 0.0321, 0.0327],\n",
    "     [0.0374, 0.0775, 0.0387, 0.0367, 0.0382, 0.0363, 0.0356, 0.0342],\n",
    "     [0.0349, 0.0387, 0.0624, 0.0336, 0.0395, 0.0369, 0.0338, 0.0243],\n",
    "     [0.0348, 0.0367, 0.0336, 0.0682, 0.0402, 0.0335, 0.0436, 0.0371],\n",
    "     [0.0542, 0.0382, 0.0395, 0.0402, 0.1724, 0.0789, 0.0700, 0.0501],\n",
    "     [0.0368, 0.0363, 0.0369, 0.0335, 0.0789, 0.0909, 0.0536, 0.0449],\n",
    "     [0.0321, 0.0356, 0.0338, 0.0436, 0.0700, 0.0536, 0.0965, 0.0442],\n",
    "     [0.0327, 0.0342, 0.0243, 0.0371, 0.0501, 0.0449, 0.0442, 0.0816]\n",
    " ])"
   ],
   "metadata": {
    "collapsed": false,
    "ExecuteTime": {
     "end_time": "2024-02-17T21:12:46.011123700Z",
     "start_time": "2024-02-17T21:12:46.006123400Z"
    }
   },
   "id": "97b0ac163e867c37",
   "execution_count": 3
  },
  {
   "cell_type": "code",
   "outputs": [
    {
     "name": "stdout",
     "output_type": "stream",
     "text": [
      "[[0.30757113 0.         0.         0.         0.         0.\n",
      "  0.         0.        ]\n",
      " [0.12159789 0.25042754 0.         0.         0.         0.\n",
      "  0.         0.        ]\n",
      " [0.11346969 0.09943924 0.19908909 0.         0.         0.\n",
      "  0.         0.        ]\n",
      " [0.11314456 0.09161077 0.05852564 0.20875949 0.         0.\n",
      "  0.         0.        ]\n",
      " [0.1762194  0.06697384 0.06451691 0.0495801  0.36088864 0.\n",
      "  0.         0.        ]\n",
      " [0.11964712 0.08685611 0.07376985 0.03682801 0.12583779 0.21542316\n",
      "  0.         0.        ]\n",
      " [0.1043661  0.09148076 0.06459838 0.09403289 0.10156042 0.05644071\n",
      "  0.2252194  0.        ]\n",
      " [0.10631687 0.08494311 0.01903459 0.07748203 0.05709883 0.06201184\n",
      "  0.03338534 0.22021645]]\n"
     ]
    }
   ],
   "source": [
    "N = m.shape[0]  # Number of securities\n",
    "gamma2 = 0.05  # Risk limit\n",
    "\n",
    "# Cholesky factor of S to use in conic risk constraint\n",
    "G = np.linalg.cholesky(S)\n",
    "print(G)\n"
   ],
   "metadata": {
    "collapsed": false,
    "ExecuteTime": {
     "end_time": "2024-02-17T21:16:13.525569500Z",
     "start_time": "2024-02-17T21:16:13.499569200Z"
    }
   },
   "id": "1b7e53b230bf9d18",
   "execution_count": 11
  },
  {
   "cell_type": "code",
   "outputs": [
    {
     "ename": "AttributeError",
     "evalue": "module 'mosek' has no attribute 'Model'",
     "output_type": "error",
     "traceback": [
      "\u001B[1;31m---------------------------------------------------------------------------\u001B[0m",
      "\u001B[1;31mAttributeError\u001B[0m                            Traceback (most recent call last)",
      "Cell \u001B[1;32mIn[6], line 2\u001B[0m\n\u001B[0;32m      1\u001B[0m \u001B[38;5;66;03m# Create a MOSEK model\u001B[39;00m\n\u001B[1;32m----> 2\u001B[0m \u001B[38;5;28;01mwith\u001B[39;00m \u001B[43mmo\u001B[49m\u001B[38;5;241;43m.\u001B[39;49m\u001B[43mModel\u001B[49m(\u001B[38;5;124m\"\u001B[39m\u001B[38;5;124mmarkowitz\u001B[39m\u001B[38;5;124m\"\u001B[39m) \u001B[38;5;28;01mas\u001B[39;00m M:\n\u001B[0;32m      3\u001B[0m      \u001B[38;5;66;03m# Settings\u001B[39;00m\n\u001B[0;32m      4\u001B[0m      M\u001B[38;5;241m.\u001B[39msetLogHandler(sys\u001B[38;5;241m.\u001B[39mstdout)\n\u001B[0;32m      6\u001B[0m      \u001B[38;5;66;03m# Decision variable (fraction of holdings in each security)\u001B[39;00m\n\u001B[0;32m      7\u001B[0m      \u001B[38;5;66;03m# The variable x is the fraction of holdings in each security.\u001B[39;00m\n\u001B[0;32m      8\u001B[0m      \u001B[38;5;66;03m# x must be positive, this imposes the no short-selling constraint.\u001B[39;00m\n",
      "\u001B[1;31mAttributeError\u001B[0m: module 'mosek' has no attribute 'Model'"
     ]
    }
   ],
   "source": [
    "# Create a MOSEK model\n",
    "with mo.Model(\"markowitz\") as M:\n",
    "     # Settings\n",
    "     M.setLogHandler(sys.stdout)\n",
    "\n",
    "     # Decision variable (fraction of holdings in each security)\n",
    "     # The variable x is the fraction of holdings in each security.\n",
    "     # x must be positive, this imposes the no short-selling constraint.\n",
    "     x = M.variable(\"x\", N, mo.Domain.greaterThan(0.0))\n",
    "\n",
    "     # Budget constraint\n",
    "     M.constraint('budget', mo.Expr.sum(x), mo.Domain.equalsTo(1))\n",
    "\n",
    "     # Objective\n",
    "     M.objective('obj', mo.ObjectiveSense.Maximize, mo.Expr.dot(m, x))\n",
    "\n",
    "     # Imposes a bound on the risk\n",
    "     M.constraint('risk', mo.Expr.vstack(gamma2, 0.5, mo.Expr.mul(G.T, x)),\n",
    "                  mo.Domain.inRotatedQCone())\n",
    "\n",
    "     # Solve optimization\n",
    "     M.solve()\n",
    "\n",
    "     returns = M.primalObjValue()\n",
    "     portfolio = x.level()"
   ],
   "metadata": {
    "collapsed": false,
    "ExecuteTime": {
     "end_time": "2024-02-17T21:14:57.596775700Z",
     "start_time": "2024-02-17T21:14:56.622778Z"
    }
   },
   "id": "8047244193d06e38",
   "execution_count": 6
  }
 ],
 "metadata": {
  "kernelspec": {
   "display_name": "Python 3",
   "language": "python",
   "name": "python3"
  },
  "language_info": {
   "codemirror_mode": {
    "name": "ipython",
    "version": 2
   },
   "file_extension": ".py",
   "mimetype": "text/x-python",
   "name": "python",
   "nbconvert_exporter": "python",
   "pygments_lexer": "ipython2",
   "version": "2.7.6"
  }
 },
 "nbformat": 4,
 "nbformat_minor": 5
}
