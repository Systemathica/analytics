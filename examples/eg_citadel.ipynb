{
 "cells": [
  {
   "cell_type": "markdown",
   "source": [
    "# Portfolio Analysis"
   ],
   "metadata": {
    "collapsed": false
   },
   "id": "e0bf4b8160ad3d06"
  },
  {
   "cell_type": "code",
   "execution_count": 1,
   "id": "initial_id",
   "metadata": {
    "collapsed": true,
    "ExecuteTime": {
     "end_time": "2024-01-29T23:01:33.819780300Z",
     "start_time": "2024-01-29T23:01:33.741780Z"
    }
   },
   "outputs": [],
   "source": [
    "from zputils.filesrw.xls import XLS_g_DoDf\n",
    "from zpanalytics.portfolio.basic import Align_g_Weights_p_Returns, PortfolioReturns_g_Weights_p_Returns_TC\n",
    "from zpanalytics.returns.drawdowns import Drawdowns_g_R\n",
    "import pandas as pd\n",
    "from dateutil.relativedelta import relativedelta\n",
    "import os\n",
    "import numpy as np\n",
    "import scipy\n",
    "import math\n",
    "\n",
    "from zpmeta.funcs.func import Func\n",
    "from pandas.tseries.offsets import BusinessDay"
   ]
  },
  {
   "cell_type": "code",
   "outputs": [],
   "source": [
    "worksp = r\"C:\\Users\\raman\\OneDrive\\MSx\\CMC\\Applications\\Citadel\\Screening\"\n",
    "\n",
    "# set the working directory to the location of the data files\n",
    "os.chdir(worksp)"
   ],
   "metadata": {
    "collapsed": false,
    "ExecuteTime": {
     "end_time": "2024-01-29T23:01:33.821782100Z",
     "start_time": "2024-01-29T23:01:33.785780Z"
    }
   },
   "id": "1d63892970637b89",
   "execution_count": 2
  },
  {
   "cell_type": "markdown",
   "source": [
    "## PART 0: Plotting functions"
   ],
   "metadata": {
    "collapsed": false
   },
   "id": "3deeaf5ef584bba1"
  },
  {
   "cell_type": "code",
   "outputs": [],
   "source": [
    "import matplotlib.dates as mdates\n",
    "import matplotlib.ticker as mtick\n",
    "import matplotlib.pyplot as plt\n",
    "import seaborn as sns\n",
    "\n",
    "def plot_linechart(drawdowns, title=None, filename=None, pct=True, log=False):\n",
    "    # plot the drawdowns with nicely formatted dates on the horizontal axis, dates on the x-axis in the format '%Y-%m-%d' tilted at 90 degrees, and the y-axis in percentage format\n",
    "    if title is None:\n",
    "        title = 'Drawdowns'\n",
    "        \n",
    "    sns.set_style('whitegrid')\n",
    "    sns.set_context('talk')\n",
    "    sns.set_palette('dark')\n",
    "    sns.set(font_scale=1.5)\n",
    "    plt.figure(figsize=(36, 12))\n",
    "    plt.plot(drawdowns)\n",
    "    \n",
    "    plt.title(title)\n",
    "    \n",
    "    # add legend\n",
    "    plt.legend(drawdowns.columns)\n",
    "    \n",
    "    # add vertical and horizontal gridlines\n",
    "    plt.grid(True, axis='both', which='both')\n",
    "    \n",
    "    # format the x-axis\n",
    "    plt.gca().xaxis.set_major_formatter(mdates.DateFormatter('%Y-%m'))\n",
    "    plt.gca().xaxis.set_major_locator(mdates.YearLocator())\n",
    "    \n",
    "    plt.xticks(rotation=45)\n",
    "    \n",
    "    # format the y-axis\n",
    "    if pct:\n",
    "        plt.gca().yaxis.set_major_formatter(mtick.PercentFormatter(1.0))\n",
    "\n",
    "    if log:\n",
    "        plt.yscale('log')\n",
    "    \n",
    "    # if filename is not None, save the plot to the filename as an HTML file\n",
    "    if filename is not None:\n",
    "        plt.savefig(filename, bbox_inches='tight')\n",
    "        \n",
    "    plt.show()\n",
    "    \n",
    "# plot the monthly and annual excess returns as bar charts\n",
    "def plot_barchart(data, title=None, filename=None, xformat='%Y-%m', width=20, data2=None):\n",
    "    if title is None:\n",
    "        title = 'Returns'\n",
    "        \n",
    "    # if data is a dataframe, convert it to a series\n",
    "    # if isinstance(data, pd.DataFrame):\n",
    "    #     data = data.iloc[:,0]\n",
    "        \n",
    "    sns.set_style('whitegrid')\n",
    "    sns.set_context('talk')\n",
    "    sns.set_palette('dark')\n",
    "    sns.set(font_scale=1.5)\n",
    "    \n",
    "    plt.figure(figsize=(36, 12))\n",
    "    plt.bar(data.index, data, color='steelblue', edgecolor='steelblue', width=width)\n",
    "    \n",
    "    plt.title(title)\n",
    "    \n",
    "    # format the x-axis but only show the year\n",
    "    plt.gca().xaxis.set_major_formatter(mdates.DateFormatter(xformat))\n",
    "    plt.gca().xaxis.set_major_locator(mdates.YearLocator())\n",
    "    \n",
    "    # format the y-axis\n",
    "    plt.gca().yaxis.set_major_formatter(mtick.PercentFormatter(1.0))\n",
    "    plt.xticks(rotation=45)\n",
    "    \n",
    "    # add legend\n",
    "    plt.legend([data.name])\n",
    "    \n",
    "    # if data2 is not None, plot it as a line chart with a secondary y-axis using axes\n",
    "    if data2 is not None:\n",
    "        ax2 = plt.gca().twinx()\n",
    "        ax2.plot(data2, color='olivedrab', linewidth=4)\n",
    "        ax2.set_ylabel(data2.name, color='olivedrab')\n",
    "        ax2.tick_params(axis='y', labelcolor='olivedrab')\n",
    "        ax2.yaxis.set_major_formatter(mtick.PercentFormatter(1.0))\n",
    "        ax2.legend([data2.name], loc='upper left')\n",
    "    \n",
    "    # add horizontal gridlines\n",
    "    plt.grid(True, axis='y', which='both')\n",
    "    \n",
    "    # add legend for both the y-axis and the secondary y-axis\n",
    "\n",
    "    \n",
    "    # if filename is not None, save the plot to the filename as an HTML file\n",
    "    if filename is not None:\n",
    "        plt.savefig(filename, bbox_inches='tight')\n",
    "        \n",
    "    plt.show()\n",
    "\n",
    "# plot the correlation matrix, do not display the diagonal, and format the values to 2 decimal places\n",
    "def plot_heatmap(correlation, title=None, filename=None):\n",
    "    if title is None:\n",
    "        title = 'Correlation Matrix'\n",
    "        \n",
    "    sns.set_style('whitegrid')\n",
    "    sns.set_context('talk')\n",
    "    sns.set_palette('dark')\n",
    "    sns.set(font_scale=1.5)\n",
    "    \n",
    "    plt.figure(figsize=(36, 12))\n",
    "    sns.heatmap(correlation, annot=True, fmt='.2f', vmin=-1, vmax=1, center=0, cmap='coolwarm', square=True)\n",
    "    plt.title(title)\n",
    "    \n",
    "    # if filename is not None, save the plot to the filename as an HTML file\n",
    "    if filename is not None:\n",
    "        plt.savefig(filename, bbox_inches='tight')\n",
    "        \n",
    "    plt.show()"
   ],
   "metadata": {
    "collapsed": false,
    "ExecuteTime": {
     "end_time": "2024-01-29T23:01:33.888786700Z",
     "start_time": "2024-01-29T23:01:33.797780500Z"
    }
   },
   "id": "767cea26488fa9ae",
   "execution_count": 3
  },
  {
   "cell_type": "markdown",
   "source": [
    "## Read the data files"
   ],
   "metadata": {
    "collapsed": false
   },
   "id": "22b3286e7e6f93ed"
  },
  {
   "cell_type": "code",
   "outputs": [
    {
     "name": "stdout",
     "output_type": "stream",
     "text": [
      "                AAPL      AMZN     GOOGL       JPM      MSFT      TSLA  \\\n",
      "Ticker                                                                   \n",
      "2021-12-27  0.022975 -0.008178  0.006738  0.005723  0.023186  0.025248   \n",
      "2021-12-28 -0.005767  0.005844 -0.008245  0.003035 -0.003504 -0.005000   \n",
      "2021-12-29  0.000502 -0.008555 -0.000218 -0.000504  0.002051 -0.002095   \n",
      "2021-12-30 -0.006578 -0.003289 -0.003099 -0.000505 -0.007691 -0.014592   \n",
      "2021-12-31 -0.003535 -0.011429 -0.009224 -0.000820 -0.008841 -0.012669   \n",
      "\n",
      "                 TSM         V  \n",
      "Ticker                          \n",
      "2021-12-27  0.016738  0.004662  \n",
      "2021-12-28 -0.005216  0.001930  \n",
      "2021-12-29 -0.005325  0.000550  \n",
      "2021-12-30 -0.008154 -0.001375  \n",
      "2021-12-31 -0.000914 -0.005324  \n",
      "            Mkt-RF     SMB     HML     RMW     CMA\n",
      "2021-12-23  0.0071  0.0029 -0.0048 -0.0036 -0.0039\n",
      "2021-12-27  0.0122 -0.0013  0.0029  0.0097  0.0048\n",
      "2021-12-28 -0.0027 -0.0041  0.0081  0.0084  0.0020\n",
      "2021-12-29  0.0006 -0.0003  0.0017  0.0069  0.0000\n",
      "2021-12-30 -0.0015  0.0008 -0.0040 -0.0083 -0.0042\n",
      "             RF\n",
      "2021-12-23  0.0\n",
      "2021-12-27  0.0\n",
      "2021-12-28  0.0\n",
      "2021-12-29  0.0\n",
      "2021-12-30  0.0\n",
      "Manager            0         1         2         3         4         0  \\\n",
      "Ticker          AAPL      AAPL      AAPL      AAPL      AAPL      AMZN   \n",
      "2022-01-01  0.109140  0.275281 -0.041604 -0.029819  0.089087  0.159396   \n",
      "2022-02-01  0.099363  0.077601  0.394251  0.003844  0.470378  0.144146   \n",
      "2022-03-01  0.090736  0.168017  0.154329  0.020704  0.136752  0.157688   \n",
      "2022-04-01  0.200829  0.225983  0.113674  0.164526 -0.011893  0.117201   \n",
      "2022-05-01  0.148131  0.447181  0.074776  0.264431 -0.000712  0.077283   \n",
      "\n",
      "Manager            1         2         3         4  ...         0         1  \\\n",
      "Ticker          AMZN      AMZN      AMZN      AMZN  ...       TSM       TSM   \n",
      "2022-01-01  0.069494  0.160446  0.194882  0.126321  ...  0.075542 -0.041306   \n",
      "2022-02-01  0.106889  0.055709  0.076707  0.248727  ...  0.013218  0.012967   \n",
      "2022-03-01  0.320854 -0.064744  0.131367  0.029365  ...  0.233475  0.044078   \n",
      "2022-04-01  0.049042  0.136852  0.137321  0.203581  ... -0.062856  0.182855   \n",
      "2022-05-01 -0.013082  0.350823  0.151023  0.412511  ... -0.051065  0.499695   \n",
      "\n",
      "Manager            2         3         4         0         1         2  \\\n",
      "Ticker           TSM       TSM       TSM         V         V         V   \n",
      "2022-01-01  0.068141  0.033192  0.250778  0.212735 -0.035598  0.147491   \n",
      "2022-02-01  0.396979  0.333943  0.064747 -0.033836 -0.015887 -0.041759   \n",
      "2022-03-01  0.211836  0.087754  0.185433 -0.065060 -0.001864  0.299632   \n",
      "2022-04-01  0.072985 -0.010119  0.104479  0.042602  0.192851  0.207004   \n",
      "2022-05-01  0.184620  0.074622 -0.070564  0.050104  0.030025  0.023872   \n",
      "\n",
      "Manager            3         4  \n",
      "Ticker             V         V  \n",
      "2022-01-01  0.252737  0.163921  \n",
      "2022-02-01  0.119003 -0.040986  \n",
      "2022-03-01  0.222712  0.134896  \n",
      "2022-04-01  0.180996 -0.056278  \n",
      "2022-05-01  0.007912  0.134575  \n",
      "\n",
      "[5 rows x 40 columns]\n",
      "Manager    Benchmark                                    \n",
      "Ticker          AAPL AMZN GOOGL  JPM MSFT TSLA  TSM    V\n",
      "2022-01-01       0.2  0.2   0.2  0.2  0.2  0.2  0.2  0.2\n",
      "2022-02-01       0.2  0.2   0.2  0.2  0.2  0.2  0.2  0.2\n",
      "2022-03-01       0.2  0.2   0.2  0.2  0.2  0.2  0.2  0.2\n",
      "2022-04-01       0.2  0.2   0.2  0.2  0.2  0.2  0.2  0.2\n",
      "2022-05-01       0.2  0.2   0.2  0.2  0.2  0.2  0.2  0.2\n"
     ]
    }
   ],
   "source": [
    "# read the data files\n",
    "stock_returns = pd.read_excel(f\"{worksp}\\\\{'Data.xlsx'}\", sheet_name='Stock Returns', index_col=0, parse_dates=True, header=[0])\n",
    "factor_returns = pd.read_excel(f\"{worksp}\\\\{'Data.xlsx'}\", sheet_name='Factors', index_col=0, parse_dates=True, header=[0])\n",
    "rfr = factor_returns[['RF']]\n",
    "factor_returns = factor_returns.drop(columns=['RF'])\n",
    "\n",
    "portfolio_weights = pd.read_excel(f\"{worksp}\\\\{'Data.xlsx'}\", sheet_name='Portfolio Weights', index_col=0, header=[0,1], parse_dates=True)\n",
    "portfolio_weights.columns = pd.MultiIndex.from_tuples(portfolio_weights.columns, names=['Manager', 'Ticker'])\n",
    "\n",
    "benchmark_weights = pd.read_excel(f\"{worksp}\\\\{'Data.xlsx'}\", sheet_name='Benchmark Weights', index_col=0, header=[0], parse_dates=True)\n",
    "benchmark_weights.columns = pd.MultiIndex.from_product((['Benchmark'],benchmark_weights.columns), names=['Manager', 'Ticker'])\n",
    "\n",
    "print(stock_returns.head())\n",
    "print(factor_returns.head())\n",
    "print(rfr.head())\n",
    "print(portfolio_weights.head())\n",
    "print(benchmark_weights.head())"
   ],
   "metadata": {
    "collapsed": false,
    "ExecuteTime": {
     "end_time": "2024-01-29T23:32:23.023139400Z",
     "start_time": "2024-01-29T23:32:18.256855200Z"
    }
   },
   "id": "d44bdce4f0756c98",
   "execution_count": 15
  },
  {
   "cell_type": "markdown",
   "source": [
    "## Calculate the portfolio weights & returns"
   ],
   "metadata": {
    "collapsed": false
   },
   "id": "f46a8d4e4db2ace9"
  },
  {
   "cell_type": "code",
   "outputs": [
    {
     "name": "stderr",
     "output_type": "stream",
     "text": [
      "C:\\Users\\raman\\zeroth\\zeroth-analytics\\zpanalytics\\portfolio\\basic.py:81: FutureWarning: In a future version of pandas, a length 1 tuple will be returned when iterating over a groupby with a grouper equal to a list of length 1. Don't supply a list with a single grouper to avoid this warning.\n",
      "  for plabel, pWeights in portfolio_dict:\n",
      "C:\\Users\\raman\\zeroth\\zeroth-analytics\\zpanalytics\\portfolio\\basic.py:81: FutureWarning: In a future version of pandas, a length 1 tuple will be returned when iterating over a groupby with a grouper equal to a list of length 1. Don't supply a list with a single grouper to avoid this warning.\n",
      "  for plabel, pWeights in portfolio_dict:\n"
     ]
    },
    {
     "name": "stdout",
     "output_type": "stream",
     "text": [
      "Manager            0                                                    \\\n",
      "Ticker          AAPL      AMZN     GOOGL       JPM      MSFT      TSLA   \n",
      "2023-09-26 -0.051920  0.161533  0.079842  0.071378  0.226260  0.187447   \n",
      "2023-09-27 -0.051770  0.158279  0.079939  0.072121  0.227084  0.189161   \n",
      "2023-09-28 -0.051137  0.157748  0.080892  0.072300  0.226793  0.185730   \n",
      "2023-09-29 -0.050674  0.156081  0.081122  0.072425  0.225006  0.188260   \n",
      "2023-10-02  0.091728 -0.005787 -0.031936  0.250527  0.113619  0.276360   \n",
      "\n",
      "Manager                                1            ...         3            \\\n",
      "Ticker           TSM         V      AAPL      AMZN  ...       TSM         V   \n",
      "2023-09-26  0.266803  0.058658  0.263342  0.219235  ...  0.167402 -0.029482   \n",
      "2023-09-27  0.266248  0.058938  0.262762  0.214966  ...  0.167525 -0.029706   \n",
      "2023-09-28  0.268974  0.058701  0.261607  0.215942  ...  0.168991 -0.029544   \n",
      "2023-09-29  0.269153  0.058628  0.259486  0.213866  ...  0.169910 -0.029647   \n",
      "2023-10-02  0.217095  0.088394  0.055613  0.098105  ...  0.243813 -0.000679   \n",
      "\n",
      "Manager            4                                                    \\\n",
      "Ticker          AAPL      AMZN     GOOGL       JPM      MSFT      TSLA   \n",
      "2023-09-26  0.168880  0.142709  0.200477  0.097406  0.234971 -0.044086   \n",
      "2023-09-27  0.168548  0.139963  0.200907  0.098511  0.236044 -0.044530   \n",
      "2023-09-28  0.166442  0.139455  0.203245  0.098729  0.235677 -0.043710   \n",
      "2023-09-29  0.165742  0.138658  0.204822  0.099383  0.234965 -0.044523   \n",
      "2023-10-02  0.134858  0.054218  0.050417  0.101339  0.095948  0.066359   \n",
      "\n",
      "Manager                         \n",
      "Ticker           TSM         V  \n",
      "2023-09-26  0.032556  0.167087  \n",
      "2023-09-27  0.032518  0.168039  \n",
      "2023-09-28  0.032842  0.167320  \n",
      "2023-09-29  0.033025  0.167928  \n",
      "2023-10-02  0.284224  0.212637  \n",
      "\n",
      "[5 rows x 40 columns]\n",
      "Manager    Benchmark                                                    \\\n",
      "Ticker          AAPL      AMZN     GOOGL       JPM      MSFT      TSLA   \n",
      "2023-09-26  0.201375  0.204366  0.206875  0.215035  0.208159  0.205626   \n",
      "2023-09-27  0.203346  0.202794  0.209760  0.220034  0.211572  0.210143   \n",
      "2023-09-28  0.201008  0.202263  0.212416  0.220744  0.211457  0.206484   \n",
      "2023-09-29  0.198182  0.199115  0.211946  0.220007  0.208732  0.208240   \n",
      "2023-10-02  0.200000  0.200000  0.200000  0.200000  0.200000  0.200000   \n",
      "\n",
      "Manager                         \n",
      "Ticker           TSM         V  \n",
      "2023-09-26  0.199055  0.204085  \n",
      "2023-09-27  0.201165  0.207664  \n",
      "2023-09-28  0.203375  0.206985  \n",
      "2023-09-29  0.202483  0.205681  \n",
      "2023-10-02  0.200000  0.200000  \n"
     ]
    }
   ],
   "source": [
    "ppweights = Align_g_Weights_p_Returns(dict(returns=stock_returns, portfolio_by=['Manager'], asset_by='Ticker'))(portfolio_weights)\n",
    "ppweights_benchm = Align_g_Weights_p_Returns(dict(returns=stock_returns, portfolio_by=['Manager'], asset_by='Ticker'))(benchmark_weights)\n",
    "print(ppweights.tail())\n",
    "print(ppweights_benchm.tail())"
   ],
   "metadata": {
    "collapsed": false,
    "ExecuteTime": {
     "end_time": "2024-01-29T23:32:56.080892200Z",
     "start_time": "2024-01-29T23:32:55.714889500Z"
    }
   },
   "id": "17bab8194a92fb18",
   "execution_count": 17
  },
  {
   "cell_type": "markdown",
   "source": [
    "## PART I: Portfolio Analysis"
   ],
   "metadata": {
    "collapsed": false
   },
   "id": "754b883dc960bd53"
  },
  {
   "cell_type": "markdown",
   "source": [
    "### Calculate basic portfolio statistics"
   ],
   "metadata": {
    "collapsed": false
   },
   "id": "2613173bc78c7ed2"
  },
  {
   "cell_type": "code",
   "outputs": [],
   "source": [
    "class Performance_g_Returns(Func):\n",
    "    \"\"\"Calculate Sharpe given excess returns.\n",
    "    \"\"\"\n",
    "    @classmethod\n",
    "    def _std_params(cls, name=None):\n",
    "        params = dict(rfr=None, periods=12)\n",
    "        return params\n",
    "\n",
    "    @classmethod\n",
    "    def _execute(cls, operand=None, params: dict = None) -> pd.DataFrame:\n",
    "        if params['rfr'] is None:\n",
    "            excess_returns = operand.copy()\n",
    "        else:\n",
    "            excess_returns = operand.sub(params['rfr'].iloc[:,0], axis=0)\n",
    "            \n",
    "        excess_returns = excess_returns.fillna(0.0)\n",
    "\n",
    "        geometric_mean = scipy.stats.mstats.gmean(1.0 + excess_returns)\n",
    "        gmean = geometric_mean ** (params['periods']) - 1.0\n",
    "        stdev = (excess_returns.std(skipna=True)) * math.sqrt(params['periods'])\n",
    "        sharpe = gmean / stdev\n",
    "        skew = excess_returns.skew(skipna=True)\n",
    "        kurtosis = excess_returns.kurtosis(skipna=True)\n",
    "\n",
    "        result = pd.DataFrame([gmean, stdev, sharpe, skew, kurtosis], index=['GMean Ann', 'STDev Ann', 'Sharpe Ann', 'Skew', 'Kurtosis']).T\n",
    "\n",
    "        return result\n",
    "    \n",
    "class VolAdjust_g_Returns(Func):\n",
    "    \"\"\"Calculate Sharpe given excess returns.\n",
    "    \"\"\"\n",
    "    @classmethod\n",
    "    def _std_params(cls, name=None):\n",
    "        params = dict(rfr=None, target_vol=0.12, periods=12)\n",
    "        return params\n",
    "    \n",
    "    @classmethod\n",
    "    def _execute(cls, operand=None, params: dict = None) -> pd.DataFrame:\n",
    "        if params['rfr'] is None:\n",
    "            excess_returns = operand.copy()\n",
    "        else:\n",
    "            excess_returns = operand.sub(params['rfr'].iloc[:,0], axis=0)\n",
    "            \n",
    "        excess_returns = excess_returns.fillna(0.0)\n",
    "        \n",
    "        stdev = excess_returns.std(axis=0)\n",
    "        \n",
    "        levered_returns = excess_returns.div(stdev, axis=1) * (params['target_vol']/np.sqrt(params['periods']))\n",
    "        \n",
    "        if params['rfr'] is None:\n",
    "            result = levered_returns\n",
    "        else:\n",
    "            result = levered_returns.add(params['rfr'].iloc[:,0], axis=0)\n",
    "            \n",
    "        return result"
   ],
   "metadata": {
    "collapsed": false,
    "ExecuteTime": {
     "end_time": "2024-01-30T00:46:56.263413100Z",
     "start_time": "2024-01-30T00:46:56.094413600Z"
    }
   },
   "id": "8d0250ec8b532c71",
   "execution_count": 18
  },
  {
   "cell_type": "code",
   "outputs": [
    {
     "name": "stdout",
     "output_type": "stream",
     "text": [
      "   GMean Ann  STDev Ann  Sharpe Ann      Skew  Kurtosis\n",
      "0  -0.116339   0.299129   -0.388926  0.163682  0.606177\n",
      "1   0.002128   0.294066    0.007237  0.015165 -0.002264\n",
      "2  -0.165646   0.310562   -0.533375 -0.218696  1.991446\n",
      "3   0.115951   0.313889    0.369402 -0.031749  0.682102\n",
      "4  -0.033282   0.287299   -0.115844  0.212879  1.264489\n"
     ]
    },
    {
     "name": "stderr",
     "output_type": "stream",
     "text": [
      "C:\\Users\\raman\\zeroth\\zeroth-analytics\\zpanalytics\\portfolio\\basic.py:81: FutureWarning: In a future version of pandas, a length 1 tuple will be returned when iterating over a groupby with a grouper equal to a list of length 1. Don't supply a list with a single grouper to avoid this warning.\n",
      "  for plabel, pWeights in portfolio_dict:\n"
     ]
    }
   ],
   "source": [
    "pret = PortfolioReturns_g_Weights_p_Returns_TC(dict(returns=stock_returns, portfolio_by=['Manager'], asset_by='Ticker'))(portfolio_weights)\n",
    "\n",
    "portfolio_returns_excess = pret['portfolio_returns'].sub(rfr.iloc[:,0], axis=0)\n",
    "\n",
    "stats_table = Performance_g_Returns(dict(periods=256))(portfolio_returns_excess)\n",
    "print(stats_table)"
   ],
   "metadata": {
    "collapsed": false,
    "ExecuteTime": {
     "end_time": "2024-01-30T00:47:00.331481700Z",
     "start_time": "2024-01-30T00:47:00.114481100Z"
    }
   },
   "id": "b5987e6a03f1645f",
   "execution_count": 19
  },
  {
   "cell_type": "markdown",
   "source": [
    "### Drawdowns"
   ],
   "metadata": {
    "collapsed": false
   },
   "id": "c1f82820ce99a473"
  },
  {
   "cell_type": "code",
   "outputs": [
    {
     "name": "stdout",
     "output_type": "stream",
     "text": [
      "Max Drawdowns\n",
      " Manager\n",
      "0   -0.420052\n",
      "1   -0.322509\n",
      "2   -0.406884\n",
      "3   -0.294758\n",
      "4   -0.282502\n",
      "dtype: float64\n"
     ]
    }
   ],
   "source": [
    "drawdowns_total = Drawdowns_g_R({'freq': 'M'})(portfolio_returns_excess)\n",
    "max_drawdown = drawdowns_total.min()\n",
    "print(\"Max Drawdowns\\n\", max_drawdown)"
   ],
   "metadata": {
    "collapsed": false,
    "ExecuteTime": {
     "end_time": "2024-01-30T00:47:05.532541700Z",
     "start_time": "2024-01-30T00:47:05.417541200Z"
    }
   },
   "id": "b2e5946fa0735de3",
   "execution_count": 20
  },
  {
   "cell_type": "markdown",
   "source": [
    "### Correlation Analysis"
   ],
   "metadata": {
    "collapsed": false
   },
   "id": "ca7e7eebf64c4a87"
  },
  {
   "cell_type": "code",
   "outputs": [
    {
     "data": {
      "text/plain": "<Figure size 3600x1200 with 2 Axes>",
      "image/png": "[encoded data removed]"
     },
     "metadata": {},
     "output_type": "display_data"
    }
   ],
   "source": [
    "corr = portfolio_returns_excess.corr()\n",
    "plot_heatmap(corr, title='PM Correlations (Daily Excess Returns)', filename='corr.png')"
   ],
   "metadata": {
    "collapsed": false,
    "ExecuteTime": {
     "end_time": "2024-01-30T00:47:15.455655100Z",
     "start_time": "2024-01-30T00:47:10.704016200Z"
    }
   },
   "id": "3d819b86901efcd2",
   "execution_count": 21
  },
  {
   "cell_type": "markdown",
   "source": [
    "### Convexity Analysis"
   ],
   "metadata": {
    "collapsed": false
   },
   "id": "a4717ac3d5b33bd7"
  },
  {
   "cell_type": "code",
   "outputs": [
    {
     "data": {
      "text/plain": "<Figure size 1600x600 with 2 Axes>",
      "image/png": "[encoded data removed]"
     },
     "metadata": {},
     "output_type": "display_data"
    }
   ],
   "source": [
    "from zpanalytics.returns.basic import Cumulate_g_Returns\n",
    "\n",
    "\n",
    "class BenchmarkPercentileAnalysis_g_Returns(Func):\n",
    "    \"\"\" Function class for environment analysis.\n",
    "    \"\"\"\n",
    "    @classmethod\n",
    "    def _std_params(cls, name: str = None) -> dict:\n",
    "        return dict(freq='M', benchmark_returns=None, percentiles=[10, 30, 70, 90])\n",
    "\n",
    "    @classmethod\n",
    "    def _execute(cls, operand: pd.DataFrame = None, params: dict = None) -> object:\n",
    "        def determine_bin(row, boundaries):\n",
    "            for i, b in enumerate(boundaries):\n",
    "                if row < b:\n",
    "                    return i\n",
    "            return len(boundaries)\n",
    "        \n",
    "        benchmark_label = {k: k for k in params['benchmark_returns'].columns}\n",
    "        portfolios = list(operand.columns)\n",
    "        bin_labels = ['0-10%', '10-30%', '30-70%', '70-90%', '90-100%']\n",
    "        \n",
    "        sns.set_style('whitegrid')\n",
    "        sns.set_context('talk')\n",
    "        sns.set_palette('dark')\n",
    "        sns.set(font_scale=0.75)\n",
    "        \n",
    "        fig, axs = plt.subplots(1, len(benchmark_label), figsize=(8*len(benchmark_label), 6))\n",
    "        fig.suptitle('Portfolio Returns in Benchmark Performance Bins (All Returns adj. to 12% Ann. Vol)', wrap=True)\n",
    "        bar_width = 0.40/len(operand.columns)\n",
    "        \n",
    "        df = params['benchmark_returns'].join(operand, how='outer')\n",
    "        df = Cumulate_g_Returns(dict(freq=params['freq']))(df)\n",
    "        \n",
    "        records = {}\n",
    "        for i, benchmark in enumerate(benchmark_label):\n",
    "            # Calculate percentiles of benchmark returns\n",
    "            percentiles = np.percentile(df[benchmark], params['percentiles'])\n",
    "        \n",
    "            df['bin'] = df[benchmark].apply(lambda x: determine_bin(x, percentiles))\n",
    "            df['bin_label'] = df['bin'].map(dict(enumerate(bin_labels)))\n",
    "            \n",
    "            avg_returns = df.groupby('bin_label').mean()\n",
    "            \n",
    "            records[benchmark] = avg_returns\n",
    "            \n",
    "            # Creating index for grouped bar chart\n",
    "            r1 = np.arange(len(avg_returns))\n",
    "            \n",
    "            for p, port in enumerate(portfolios):\n",
    "                rp = [x + (p-1)*bar_width for x in r1]\n",
    "                axs[i].bar(rp, avg_returns[port] * 100, width=bar_width, label=port)\n",
    "            \n",
    "            rb = [x + p*bar_width for x in r1]\n",
    "            axs[i].bar(rb, avg_returns[benchmark] * 100, width=bar_width, label=benchmark_label[benchmark], alpha=0.7)\n",
    "            \n",
    "            #  Plotting for the current benchmark\n",
    "            axs[i].set_title(f'{benchmark}')\n",
    "            axs[i].set_xlabel('Benchmark Return Percentile')\n",
    "            axs[i].set_ylabel('Average Return (%)')\n",
    "            axs[i].set_xticks([r + bar_width / 2 for r in range(len(avg_returns))])\n",
    "            axs[i].set_xticklabels(avg_returns.index)\n",
    "            axs[i].legend()\n",
    "            axs[i].grid(True, axis='y', which='both')\n",
    "            \n",
    "        return records, fig    \n",
    "\n",
    "voladj_returns = VolAdjust_g_Returns(dict(target_vol=0.12, periods=256))(portfolio_returns_excess)\n",
    "records, fig = BenchmarkPercentileAnalysis_g_Returns(dict(freq='B', benchmark_returns=factor_returns[['Mkt-RF','SMB']], \n",
    "                                                        percentiles=[10, 30, 70, 90]))(voladj_returns)\n",
    "\n",
    "plt.tight_layout(rect=[0, 0.03, 1, 0.95])\n",
    "plt.savefig('Results Environment Analysis.png', bbox_inches='tight')\n",
    "plt.show()\n",
    "\n",
    "# save the dfexcel \n",
    "with pd.ExcelWriter('Results Environments Analysis.xlsx') as writer:\n",
    "    for benchmark in records:\n",
    "        records[benchmark].to_excel(writer, sheet_name=benchmark)\n"
   ],
   "metadata": {
    "collapsed": false,
    "ExecuteTime": {
     "end_time": "2024-01-30T00:52:51.631765200Z",
     "start_time": "2024-01-30T00:52:44.247780900Z"
    }
   },
   "id": "da9e8efacc73fa11",
   "execution_count": 22
  },
  {
   "cell_type": "code",
   "outputs": [],
   "source": [
    "import statsmodels.api as sm\n",
    "import numpy as np\n",
    "\n",
    "class Convexity_g_Returns(Func):\n",
    "    \"\"\" Function class for convexity analysis.\n",
    "    \"\"\"\n",
    "    @classmethod\n",
    "    def _std_params(cls, name: str = None) -> dict:\n",
    "        return dict(benchmark_returns=None, rfr=None, betaShrinkage=1.0, standardize=False, freq='B')\n",
    "\n",
    "    @classmethod\n",
    "    def _execute(cls, operand, params=None):\n",
    "        if params['rfr'] is None:\n",
    "            excess_returns = operand.copy()\n",
    "        else:\n",
    "            excess_returns = operand.sub(params['rfr'].iloc[:,0], axis=0)\n",
    "\n",
    "        pr_br_ = params['benchmark_returns'].join(excess_returns, how='outer')\n",
    "        pr_br_ = Cumulate_g_Returns(dict(freq=params['freq']))(pr_br_)\n",
    "        \n",
    "        # select portfolio and benchmark returns\n",
    "        pr_, br_ = pr_br_[excess_returns.columns], pr_br_[params['benchmark_returns'].columns]\n",
    "\n",
    "        # for each benchmark returns in br_ and each portfolio returns in pr_ calculate the regression coefficients with dummy variable for when the benchmark return is negative\n",
    "        results = pd.DataFrame()\n",
    "        for portfolio_label in pr_.columns:\n",
    "            for benchmark_label in br_.columns:\n",
    "                # create a dataframe with the benchmark and portfolio returns\n",
    "                df = pd.DataFrame({'port': pr_[portfolio_label], 'ben': br_[benchmark_label]})\n",
    "                df = df.dropna()\n",
    "                \n",
    "                # create a dummy variable for when the benchmark return is negative\n",
    "                df['ben_neg'] = df['ben'].apply(lambda x: x if x < 0 else 0)\n",
    "                \n",
    "                # create a constant\n",
    "                df['const'] = 1\n",
    "                \n",
    "                # create a regression model\n",
    "                model = sm.OLS(df['port'], df[['const', 'ben', 'ben_neg']])\n",
    "                \n",
    "                # fit the model\n",
    "                reg_results = model.fit()\n",
    "                \n",
    "                # extract the coefficients\n",
    "                coefficient_df = reg_results.params.to_frame(name=(portfolio_label, benchmark_label, 'Coefficient'))\n",
    "                pvalue_df = reg_results.params.to_frame(name=(portfolio_label, benchmark_label, 'P-Value'))\n",
    "                \n",
    "                df = pd.concat([coefficient_df, pvalue_df], axis=1)\n",
    "                \n",
    "                results = pd.concat([results, df], axis=1)\n",
    "\n",
    "        return results\n",
    "\n"
   ],
   "metadata": {
    "collapsed": false,
    "ExecuteTime": {
     "end_time": "2024-01-30T00:53:01.519462200Z",
     "start_time": "2024-01-30T00:52:56.477969600Z"
    }
   },
   "id": "ef73f6bd0453bd67",
   "execution_count": 23
  },
  {
   "cell_type": "code",
   "outputs": [
    {
     "name": "stdout",
     "output_type": "stream",
     "text": [
      "                  0                                           1            \\\n",
      "             Mkt-RF                   SMB                Mkt-RF             \n",
      "        Coefficient   P-Value Coefficient   P-Value Coefficient   P-Value   \n",
      "const      0.000168  0.000168   -0.000397 -0.000397    0.000958  0.000958   \n",
      "ben        1.226615  1.226615    0.366575  0.366575    1.135621  1.135621   \n",
      "ben_neg    0.036491  0.036491   -0.068871 -0.068871    0.105109  0.105109   \n",
      "\n",
      "                                        2                                  \\\n",
      "                SMB                Mkt-RF                   SMB             \n",
      "        Coefficient   P-Value Coefficient   P-Value Coefficient   P-Value   \n",
      "const      0.000349  0.000349    0.000391  0.000391   -0.000485 -0.000485   \n",
      "ben        0.115448  0.115448    1.207209  1.207209    0.511722  0.511722   \n",
      "ben_neg    0.069115  0.069115    0.122715  0.122715   -0.029674 -0.029674   \n",
      "\n",
      "                  3                                           4            \\\n",
      "             Mkt-RF                   SMB                Mkt-RF             \n",
      "        Coefficient   P-Value Coefficient   P-Value Coefficient   P-Value   \n",
      "const      0.001190  0.001190   -0.000194 -0.000194    0.000161  0.000161   \n",
      "ben        1.239513  1.239513    0.436288  0.436288    1.237857  1.237857   \n",
      "ben_neg    0.060943  0.060943   -0.373651 -0.373651   -0.030869 -0.030869   \n",
      "\n",
      "                                     \n",
      "                  SMB                \n",
      "          Coefficient       P-Value  \n",
      "const    8.086030e-07  8.086030e-07  \n",
      "ben      3.527380e-01  3.527380e-01  \n",
      "ben_neg -3.644923e-02 -3.644923e-02  \n"
     ]
    }
   ],
   "source": [
    "results = Convexity_g_Returns(dict(freq='B', benchmark_returns=factor_returns[['Mkt-RF','SMB']]))(portfolio_returns_excess)\n",
    "print(results)"
   ],
   "metadata": {
    "collapsed": false,
    "ExecuteTime": {
     "end_time": "2024-01-30T00:53:05.159098600Z",
     "start_time": "2024-01-30T00:53:04.910101400Z"
    }
   },
   "id": "61d7d3a838c4b94",
   "execution_count": 24
  },
  {
   "cell_type": "markdown",
   "source": [
    "### Asset-wise Return Contributions"
   ],
   "metadata": {
    "collapsed": false
   },
   "id": "ae5e713e3638c904"
  },
  {
   "cell_type": "code",
   "outputs": [
    {
     "name": "stdout",
     "output_type": "stream",
     "text": [
      "        Return Contribution                                        \n",
      "Manager                   0         1         2         3         4\n",
      "Ticker                                                             \n",
      "AAPL               0.032542 -0.026524  0.008631  0.047286  0.006784\n",
      "AMZN              -0.120653 -0.035917 -0.027465  0.021448 -0.050689\n",
      "GOOGL             -0.018158 -0.000063 -0.098656  0.081089  0.026090\n",
      "JPM                0.054020  0.024952  0.000387  0.003163  0.060128\n",
      "MSFT               0.054300 -0.013077 -0.007267 -0.114728 -0.011069\n",
      "TSLA               0.036601  0.127100 -0.035526  0.326842  0.013311\n",
      "TSM               -0.123371  0.074257 -0.098803 -0.135547  0.025052\n",
      "V                 -0.003911 -0.023228  0.076812  0.095474 -0.008194\n"
     ]
    }
   ],
   "source": [
    "return_contributions = pret['contributed_returns'].sum(axis=0).to_frame(name='Return Contribution').unstack(level='Manager')\n",
    "print(return_contributions)"
   ],
   "metadata": {
    "collapsed": false,
    "ExecuteTime": {
     "end_time": "2024-01-30T00:53:10.475025100Z",
     "start_time": "2024-01-30T00:53:10.382024Z"
    }
   },
   "id": "33f979ded7f35e0d",
   "execution_count": 25
  },
  {
   "cell_type": "markdown",
   "source": [],
   "metadata": {
    "collapsed": false
   },
   "id": "b70aa5947bf62a8"
  },
  {
   "cell_type": "markdown",
   "source": [
    "### Asset-wise Risk Contribution Analysis"
   ],
   "metadata": {
    "collapsed": false
   },
   "id": "b3b5a071190e2ece"
  },
  {
   "cell_type": "code",
   "outputs": [],
   "source": [
    "import pandas as pd\n",
    "\n",
    "\n",
    "class AssetMCTR_g_RBWeights(Func):\n",
    "    \"\"\" Function class for asset-wise risk contribution analysis.\n",
    "    \"\"\"\n",
    "    @classmethod\n",
    "    def _std_params(cls, name: str = None) -> dict:\n",
    "        return dict(returns=None, portfolio_weights=None, portfolio_by=['Manager'], asset_by='Ticker', corr_lookback=256)\n",
    "\n",
    "    @classmethod\n",
    "    def _execute(cls, operand, params=None):\n",
    "        pret = PortfolioReturns_g_Weights_p_Returns_TC(dict(returns=params['returns'], portfolio_by=params['portfolio_by'], \n",
    "                                                 asset_by=params['asset_by']))(operand)\n",
    "        \n",
    "        asset_returns = params['returns']\n",
    "        \n",
    "        ppweights_gbo = operand.groupby(by=params['portfolio_by'], axis='columns')\n",
    "        \n",
    "        results_dict = dict()\n",
    "        for portfolio_label, label_ppweights in ppweights_gbo:\n",
    "            label_ppweights = label_ppweights.dropna(how='all').droplevel(level=params['portfolio_by'], axis='columns')\n",
    "            \n",
    "            if len(label_ppweights.columns) > 0:\n",
    "                asset_returns_label = asset_returns[label_ppweights.columns]\n",
    "                label_ppweights = label_ppweights.fillna(0.0)\n",
    "                \n",
    "                mctr_df = pd.DataFrame()\n",
    "                for dat in label_ppweights.index:\n",
    "                    \n",
    "                    W = label_ppweights.loc[dat]\n",
    "                    W = W / (W.sum())\n",
    "                    \n",
    "                    R = asset_returns_label.truncate(after=dat).iloc[-params['corr_lookback']:]\n",
    "                    VCV = R.cov()\n",
    "                    \n",
    "                    contributed_risk = W.transpose().dot(VCV)\n",
    "                    contributed_risk = contributed_risk * W\n",
    "                    \n",
    "                    total_risk = W.transpose().dot(VCV).dot(W)\n",
    "                    \n",
    "                    mctr_day = contributed_risk / total_risk\n",
    "                    mctr_day_df = mctr_day.to_frame(name=dat).transpose()\n",
    "                    \n",
    "                    mctr_df = mctr_df.combine_first(mctr_day_df)\n",
    "                \n",
    "                results_dict[portfolio_label] = mctr_df\n",
    "            \n",
    "        # combine the results into a single dataframe\n",
    "        results = pd.concat(results_dict, axis=1, names=['Manager', 'Ticker'])\n",
    "        \n",
    "        return results"
   ],
   "metadata": {
    "collapsed": false,
    "ExecuteTime": {
     "end_time": "2024-01-30T00:53:18.162952100Z",
     "start_time": "2024-01-30T00:53:18.131953900Z"
    }
   },
   "id": "9c643ac0d153c8e1",
   "execution_count": 26
  },
  {
   "cell_type": "code",
   "outputs": [
    {
     "name": "stderr",
     "output_type": "stream",
     "text": [
      "C:\\Users\\raman\\zeroth\\zeroth-analytics\\zpanalytics\\portfolio\\basic.py:81: FutureWarning: In a future version of pandas, a length 1 tuple will be returned when iterating over a groupby with a grouper equal to a list of length 1. Don't supply a list with a single grouper to avoid this warning.\n",
      "  for plabel, pWeights in portfolio_dict:\n",
      "C:\\Users\\raman\\AppData\\Local\\Temp\\ipykernel_17268\\2498234358.py:21: FutureWarning: In a future version of pandas, a length 1 tuple will be returned when iterating over a groupby with a grouper equal to a list of length 1. Don't supply a list with a single grouper to avoid this warning.\n",
      "  for portfolio_label, label_ppweights in ppweights_gbo:\n"
     ]
    },
    {
     "name": "stdout",
     "output_type": "stream",
     "text": [
      "Manager            0                                                    \\\n",
      "Ticker          AAPL      AMZN     GOOGL       JPM      MSFT      TSLA   \n",
      "2022-01-01  0.187900 -0.003765  0.102891  0.042786  0.137653  0.327975   \n",
      "2022-02-01  0.065901  0.097340  0.170556 -0.014213  0.156827  0.528660   \n",
      "2022-03-01  0.063223  0.206147 -0.056627  0.272008  0.174188  0.094165   \n",
      "2022-04-01  0.167167  0.131248  0.267652  0.099372  0.079080  0.276321   \n",
      "2022-05-01  0.123364  0.091970  0.139407  0.108676  0.208609  0.332756   \n",
      "2022-06-01  0.071893  0.509027  0.118684 -0.003169 -0.086110 -0.105631   \n",
      "2022-07-01  0.321037 -0.038178  0.155928 -0.013972  0.233641  0.177037   \n",
      "2022-08-01  0.038064  0.380515  0.179118 -0.038097  0.056553 -0.024251   \n",
      "2022-09-01  0.051644 -0.041788 -0.080787  0.048630  0.041399  0.326839   \n",
      "2022-10-01 -0.000105  0.309382  0.112289  0.050285  0.196755  0.134944   \n",
      "2022-11-01  0.068143  0.360625 -0.029469  0.185390  0.222395  0.141870   \n",
      "2022-12-01  0.051498  0.266357  0.243217 -0.024639  0.013120  0.072313   \n",
      "2023-01-01 -0.065004  0.076382 -0.018717  0.089967 -0.028190  0.477596   \n",
      "2023-02-01  0.194131  0.060020 -0.075775  0.207546 -0.082288  0.160512   \n",
      "2023-03-01  0.105811 -0.015888  0.207637  0.103483  0.073892  0.317793   \n",
      "2023-04-01 -0.007123  0.107255  0.332331 -0.032542  0.245458  0.288773   \n",
      "2023-05-01  0.181656  0.286452  0.252709  0.032666  0.052393 -0.014099   \n",
      "2023-06-01  0.089441  0.064707 -0.060075  0.178359 -0.026879  0.363970   \n",
      "2023-07-01  0.126447  0.223691 -0.036656  0.108034  0.043898  0.299360   \n",
      "2023-08-01  0.145554  0.074349  0.061176  0.016524  0.158817  0.321955   \n",
      "2023-09-01 -0.038075  0.169244  0.068547  0.028134  0.189252  0.290288   \n",
      "2023-10-01  0.064570 -0.004459 -0.020542  0.126516  0.075695  0.522992   \n",
      "\n",
      "Manager                                1            ...         3            \\\n",
      "Ticker           TSM         V      AAPL      AMZN  ...       TSM         V   \n",
      "2022-01-01  0.098371  0.106189  0.325185 -0.009586  ...  0.048031  0.175904   \n",
      "2022-02-01  0.010571 -0.015642  0.081703  0.110637  ...  0.478317  0.100237   \n",
      "2022-03-01  0.278675 -0.031779  0.101571  0.371475  ...  0.073606  0.132699   \n",
      "2022-04-01 -0.051126  0.030287  0.206975  0.051430  ... -0.008429  0.130646   \n",
      "2022-05-01 -0.040593  0.035811  0.359335 -0.011927  ...  0.071871  0.006187   \n",
      "2022-06-01  0.354128  0.141178  0.106558  0.324786  ...  0.016579  0.005289   \n",
      "2022-07-01  0.166044 -0.001538 -0.012280  0.119399  ...  0.233642  0.171869   \n",
      "2022-08-01  0.323503  0.084594  0.142818  0.318640  ...  0.626645 -0.027027   \n",
      "2022-09-01  0.365821  0.288242  0.033473  0.090691  ...  0.142464 -0.031319   \n",
      "2022-10-01  0.150517  0.045933  0.210073  0.205742  ... -0.031230  0.054125   \n",
      "2022-11-01  0.040660  0.010386  0.694570 -0.083770  ...  0.015626  0.121924   \n",
      "2022-12-01  0.192806  0.185328  0.239708  0.302874  ...  0.148303  0.311011   \n",
      "2023-01-01  0.114582  0.353384  0.262648  0.153131  ... -0.027778  0.043107   \n",
      "2023-02-01  0.187425  0.348429 -0.114020  0.430347  ...  0.233368 -0.023447   \n",
      "2023-03-01  0.079642  0.127630  0.178656  0.300347  ...  0.195191  0.178298   \n",
      "2023-04-01  0.048612  0.017236  0.183037  0.133662  ... -0.034626  0.012222   \n",
      "2023-05-01  0.125119  0.083104  0.372143 -0.053450  ...  0.068210  0.055316   \n",
      "2023-06-01  0.256619  0.133857  0.311507 -0.038110  ... -0.009862  0.106042   \n",
      "2023-07-01  0.118225  0.117001  0.265822  0.099715  ...  0.033701  0.068850   \n",
      "2023-08-01  0.199434  0.022192  0.250148  0.264587  ...  0.686287  0.031285   \n",
      "2023-09-01  0.267083  0.025526  0.205508  0.219735  ...  0.169177 -0.014675   \n",
      "2023-10-01  0.197634  0.037594  0.046543  0.106871  ...  0.234625 -0.000272   \n",
      "\n",
      "Manager            4                                                    \\\n",
      "Ticker          AAPL      AMZN     GOOGL       JPM      MSFT      TSLA   \n",
      "2022-01-01  0.131987 -0.010591 -0.036261  0.047647  0.226468  0.284199   \n",
      "2022-02-01  0.482796  0.253313  0.281519 -0.021588  0.044975 -0.063320   \n",
      "2022-03-01  0.120240  0.032952  0.159488  0.026167  0.157628  0.205377   \n",
      "2022-04-01 -0.008119  0.231924 -0.021823  0.204502  0.223963  0.306285   \n",
      "2022-05-01 -0.000488  0.565023  0.251552  0.084849  0.017137  0.042161   \n",
      "2022-06-01  0.224907 -0.111364  0.012144  0.103085  0.114816  0.354917   \n",
      "2022-07-01  0.031835  0.233855  0.009317  0.109908  0.153770  0.245043   \n",
      "2022-08-01 -0.042530 -0.047931  0.215425  0.014529  0.087549  0.288025   \n",
      "2022-09-01  0.101245  0.189854  0.160134  0.159593  0.036102 -0.035662   \n",
      "2022-10-01  0.034822  0.562125 -0.078039  0.326056  0.080357  0.146146   \n",
      "2022-11-01  0.023139  0.276380  0.145721  0.065963  0.147397  0.062614   \n",
      "2022-12-01  0.083611  0.171707  0.150791  0.066166  0.092702  0.247430   \n",
      "2023-01-01  0.170329  0.198197  0.138491  0.106768  0.005029  0.068750   \n",
      "2023-02-01  0.100761  0.171167  0.214502 -0.021163  0.015108  0.140360   \n",
      "2023-03-01  0.162376  0.145661  0.039841  0.188529  0.055963  0.147012   \n",
      "2023-04-01  0.095613  0.174925  0.262769  0.219242 -0.026581 -0.039756   \n",
      "2023-05-01  0.174531 -0.057099  0.289179  0.116554  0.214752  0.231528   \n",
      "2023-06-01  0.262008  0.147439 -0.015264  0.002959  0.100802  0.264953   \n",
      "2023-07-01  0.386598  0.219748  0.045483  0.266668  0.096608 -0.083220   \n",
      "2023-08-01  0.172244 -0.034242  0.419587  0.224705  0.089495  0.029132   \n",
      "2023-09-01  0.169559  0.186657  0.246939  0.047957  0.264869 -0.043890   \n",
      "2023-10-01  0.129061  0.059849  0.050680  0.057033  0.094385  0.107554   \n",
      "\n",
      "Manager                         \n",
      "Ticker           TSM         V  \n",
      "2022-01-01  0.293763  0.062787  \n",
      "2022-02-01  0.059234 -0.036929  \n",
      "2022-03-01  0.196235  0.101912  \n",
      "2022-04-01  0.093796 -0.030528  \n",
      "2022-05-01 -0.047641  0.087407  \n",
      "2022-06-01  0.055777  0.245718  \n",
      "2022-07-01  0.088935  0.127337  \n",
      "2022-08-01  0.304022  0.180911  \n",
      "2022-09-01  0.082999  0.305734  \n",
      "2022-10-01 -0.070617 -0.000850  \n",
      "2022-11-01  0.211903  0.066884  \n",
      "2022-12-01  0.152901  0.034693  \n",
      "2023-01-01  0.148282  0.164154  \n",
      "2023-02-01  0.167201  0.212064  \n",
      "2023-03-01  0.057288  0.203328  \n",
      "2023-04-01  0.152709  0.161078  \n",
      "2023-05-01 -0.025138  0.055694  \n",
      "2023-06-01  0.066046  0.171058  \n",
      "2023-07-01  0.026016  0.042098  \n",
      "2023-08-01  0.024010  0.075070  \n",
      "2023-09-01  0.029835  0.098074  \n",
      "2023-10-01  0.370727  0.130710  \n",
      "\n",
      "[22 rows x 40 columns]\n",
      "Ticker          AAPL      AMZN     GOOGL       JPM      MSFT      TSLA  \\\n",
      "2022-01-01  0.325185 -0.009586  0.121509  0.028731  0.173249  0.408304   \n",
      "2022-02-01  0.081703  0.110637  0.258228  0.070798  0.556907 -0.073793   \n",
      "2022-03-01  0.101571  0.371475  0.032026  0.088389 -0.013822  0.388666   \n",
      "2022-04-01  0.206975  0.051430  0.200340  0.085392 -0.021472  0.087367   \n",
      "2022-05-01  0.359335 -0.011927  0.250420 -0.054494  0.007272 -0.134048   \n",
      "2022-06-01  0.106558  0.324786  0.263301  0.005017  0.149375  0.038151   \n",
      "2022-07-01 -0.012280  0.119399  0.049555  0.156499  0.156363  0.330996   \n",
      "2022-08-01  0.142818  0.318640  0.092117 -0.013260  0.302610  0.001829   \n",
      "2022-09-01  0.033473  0.090691 -0.002278  0.158949 -0.040453  0.351723   \n",
      "2022-10-01  0.210073  0.205742  0.159604  0.023616  0.159595  0.233657   \n",
      "2022-11-01  0.694570 -0.083770 -0.126949  0.338871 -0.096899  0.147754   \n",
      "2022-12-01  0.239708  0.302874  0.034437  0.179713  0.017769 -0.034001   \n",
      "2023-01-01  0.262648  0.153131  0.029605  0.082609  0.230282  0.109055   \n",
      "2023-02-01 -0.114020  0.430347 -0.203291  0.127193  0.597606  0.195502   \n",
      "2023-03-01  0.178656  0.300347  0.230768 -0.021696 -0.003447  0.085723   \n",
      "2023-04-01  0.183037  0.133662  0.173894  0.046397  0.480992 -0.035190   \n",
      "2023-05-01  0.372143 -0.053450  0.180100  0.133019  0.026478 -0.012894   \n",
      "2023-06-01  0.311507 -0.038110  0.319032 -0.029186  0.137789  0.127967   \n",
      "2023-07-01  0.265822  0.099715  0.166301  0.050420  0.082522  0.044933   \n",
      "2023-08-01  0.250148  0.264587  0.188401  0.008880  0.009821 -0.008775   \n",
      "2023-09-01  0.205508  0.219735  0.051175  0.072918  0.027295  0.437637   \n",
      "2023-10-01  0.046543  0.106871  0.210278  0.088874 -0.044740  0.273882   \n",
      "\n",
      "Ticker           TSM         V  \n",
      "2022-01-01 -0.036835 -0.010556  \n",
      "2022-02-01  0.010389 -0.014869  \n",
      "2022-03-01  0.032476 -0.000781  \n",
      "2022-04-01  0.213463  0.176506  \n",
      "2022-05-01  0.563540  0.019902  \n",
      "2022-06-01 -0.042947  0.155759  \n",
      "2022-07-01  0.223006 -0.023540  \n",
      "2022-08-01  0.142304  0.012943  \n",
      "2022-09-01  0.232930  0.174966  \n",
      "2022-10-01  0.013171 -0.005458  \n",
      "2022-11-01  0.046815  0.079608  \n",
      "2022-12-01  0.249380  0.010121  \n",
      "2023-01-01  0.113295  0.019376  \n",
      "2023-02-01  0.023442 -0.056778  \n",
      "2023-03-01  0.209679  0.019970  \n",
      "2023-04-01 -0.039017  0.056226  \n",
      "2023-05-01  0.396885 -0.042280  \n",
      "2023-06-01  0.130532  0.040468  \n",
      "2023-07-01  0.145327  0.144960  \n",
      "2023-08-01  0.268492  0.018445  \n",
      "2023-09-01 -0.018154  0.003886  \n",
      "2023-10-01  0.236086  0.082207  \n",
      "2022-01-01    1.0\n",
      "2022-02-01    1.0\n",
      "2022-03-01    1.0\n",
      "2022-04-01    1.0\n",
      "2022-05-01    1.0\n",
      "2022-06-01    1.0\n",
      "2022-07-01    1.0\n",
      "2022-08-01    1.0\n",
      "2022-09-01    1.0\n",
      "2022-10-01    1.0\n",
      "2022-11-01    1.0\n",
      "2022-12-01    1.0\n",
      "2023-01-01    1.0\n",
      "2023-02-01    1.0\n",
      "2023-03-01    1.0\n",
      "2023-04-01    1.0\n",
      "2023-05-01    1.0\n",
      "2023-06-01    1.0\n",
      "2023-07-01    1.0\n",
      "2023-08-01    1.0\n",
      "2023-09-01    1.0\n",
      "2023-10-01    1.0\n",
      "dtype: float64\n"
     ]
    }
   ],
   "source": [
    "mctr = AssetMCTR_g_RBWeights(dict(returns=stock_returns, portfolio_by=['Manager'], asset_by='Ticker', \n",
    "                                  corr_lookback=256))(portfolio_weights)\n",
    "print(mctr)\n",
    "\n",
    "# subset for Manager = 1\n",
    "mctr_1 = mctr.xs(1, level='Manager', axis='columns')\n",
    "# print(mctr_1)\n",
    "# print(mctr_1.sum(axis=1))"
   ],
   "metadata": {
    "collapsed": false,
    "ExecuteTime": {
     "end_time": "2024-01-30T00:53:26.121160Z",
     "start_time": "2024-01-30T00:53:21.781123200Z"
    }
   },
   "id": "f9e912939d369cc8",
   "execution_count": 27
  },
  {
   "cell_type": "markdown",
   "source": [
    "# PART II: Factor Analysis"
   ],
   "metadata": {
    "collapsed": false
   },
   "id": "baed4d7bb062705a"
  },
  {
   "cell_type": "markdown",
   "source": [
    "## Beta Analysis"
   ],
   "metadata": {
    "collapsed": false
   },
   "id": "3e3946d903607b6f"
  },
  {
   "cell_type": "code",
   "outputs": [],
   "source": [
    "class MultiFactorBeta_g_Returns(Func):\n",
    "    \"\"\" Function class for beta analysis.\n",
    "    \"\"\"\n",
    "    @classmethod\n",
    "    def _std_params(cls, name: str = None) -> dict:\n",
    "        return dict(benchmark_returns=None, rfr=None, freq='B')\n",
    "\n",
    "    @classmethod\n",
    "    def _execute(cls, operand, params=None):\n",
    "        if params['rfr'] is None:\n",
    "            excess_returns = operand.copy()\n",
    "        else:\n",
    "            excess_returns = operand.sub(params['rfr'].iloc[:,0], axis=0)\n",
    "\n",
    "        pr_br_ = params['benchmark_returns'].join(excess_returns, how='outer')\n",
    "        pr_br_ = Cumulate_g_Returns(dict(freq=params['freq']))(pr_br_)\n",
    "        pr_br_ = pr_br_.dropna(how='any')\n",
    "        \n",
    "        # select portfolio and benchmark returns\n",
    "        pr_, br_ = pr_br_[excess_returns.columns], pr_br_[params['benchmark_returns'].columns]\n",
    "\n",
    "        X = br_.copy()\n",
    "        X['const'] = 1\n",
    "        \n",
    "        betas = pd.DataFrame()\n",
    "        regression_results = {}\n",
    "        for portfolio_label in pr_.columns:\n",
    "            y = pr_[portfolio_label]\n",
    "            \n",
    "            model = sm.OLS(y, X)\n",
    "            reg_results = model.fit()\n",
    "            \n",
    "            # extract the coefficients\n",
    "            coefficient_df = reg_results.params.to_frame(name=(portfolio_label, 'Coefficient'))\n",
    "            pvalue_df = reg_results.params.to_frame(name=(portfolio_label, 'P-Value'))\n",
    "            \n",
    "            df = pd.concat([coefficient_df, pvalue_df], axis=1)\n",
    "            \n",
    "            regression_results[portfolio_label] = reg_results\n",
    "            betas = pd.concat([betas, df], axis=1)\n",
    "        \n",
    "        results = dict(betas=betas, regression_results=regression_results)\n",
    "        \n",
    "        return results"
   ],
   "metadata": {
    "collapsed": false,
    "ExecuteTime": {
     "end_time": "2024-01-30T00:54:29.522598300Z",
     "start_time": "2024-01-30T00:54:29.510546300Z"
    }
   },
   "id": "63ed6cc0982ff32a",
   "execution_count": 28
  },
  {
   "cell_type": "code",
   "outputs": [
    {
     "name": "stdout",
     "output_type": "stream",
     "text": [
      "                 0                     1                     2            \\\n",
      "       Coefficient   P-Value Coefficient   P-Value Coefficient   P-Value   \n",
      "Mkt-RF    1.103658  1.103658    1.043125  1.043125    1.157591  1.157591   \n",
      "SMB      -0.370824 -0.370824   -0.538500 -0.538500   -0.235549 -0.235549   \n",
      "HML      -0.001348 -0.001348   -0.050201 -0.050201    0.163254  0.163254   \n",
      "RMW      -0.095655 -0.095655   -0.111228 -0.111228   -0.131959 -0.131959   \n",
      "CMA      -0.523591 -0.523591   -0.518293 -0.518293   -0.565348 -0.565348   \n",
      "const     0.000042  0.000042    0.000486  0.000486   -0.000147 -0.000147   \n",
      "\n",
      "                 3                     4            \n",
      "       Coefficient   P-Value Coefficient   P-Value  \n",
      "Mkt-RF    1.152339  1.152339    1.125710  1.125710  \n",
      "SMB      -0.410835 -0.410835   -0.313618 -0.313618  \n",
      "HML       0.017480  0.017480    0.004364  0.004364  \n",
      "RMW       0.068834  0.068834   -0.037168 -0.037168  \n",
      "CMA      -0.588122 -0.588122   -0.400631 -0.400631  \n",
      "const     0.000899  0.000899    0.000335  0.000335  \n"
     ]
    }
   ],
   "source": [
    "# calculate the betas of the portfolios to the market and SMB factors\n",
    "res = MultiFactorBeta_g_Returns(dict(freq='B', benchmark_returns=factor_returns))(portfolio_returns_excess)\n",
    "print(res['betas'])"
   ],
   "metadata": {
    "collapsed": false,
    "ExecuteTime": {
     "end_time": "2024-01-30T00:54:31.409897800Z",
     "start_time": "2024-01-30T00:54:31.274897800Z"
    }
   },
   "id": "571087779b44492d",
   "execution_count": 29
  },
  {
   "cell_type": "code",
   "outputs": [],
   "source": [
    "# market_cap_pos = portfolio[portfolio['PMWT']>0]\n",
    "# market_cap_neg = portfolio[portfolio['PMWT']<0]\n",
    "# market_cap_pos['MKTWT'] = market_cap_pos['MarketCap $B'] / market_cap_pos['MarketCap $B'].sum() # market cap weight\n",
    "# market_cap_neg['MKTWT'] = -1.0*market_cap_neg['MarketCap $B'] / market_cap_neg['MarketCap $B'].sum() # market cap weight\n",
    "# portfolio_mkt = pd.concat([market_cap_pos, market_cap_neg])['MKTWT']\n",
    "# portfolio = portfolio.join(portfolio_mkt, how='left')\n",
    "# portfolio['MKTWT'].hist()\n",
    "# # as expected, the market cap weighted portfolio suffers from concentration risk, TECH1 and FINA2 take up 0.57 and -0.37 of the long and short side respectively\n",
    "# # an empirical solution to this is to use the square root of market cap as the weight\n",
    "# market_cap_pos = portfolio[portfolio['PMWT']>0]\n",
    "# market_cap_neg = portfolio[portfolio['PMWT']<0]\n",
    "# market_cap_pos['MKTWT2'] = market_cap_pos['MarketCap $B'].apply(lambda x: x**0.5) \n",
    "# market_cap_neg['MKTWT2'] = -1.0*market_cap_neg['MarketCap $B'].apply(lambda x: x**0.5)\n",
    "# market_cap_pos['MKTWT2'] = market_cap_pos['MKTWT2'] / market_cap_pos['MKTWT2'].sum()\n",
    "# market_cap_neg['MKTWT2'] = -1*market_cap_neg['MKTWT2'] / market_cap_neg['MKTWT2'].sum()\n",
    "# portfolio_mkt2 = pd.concat([market_cap_pos, market_cap_neg])['MKTWT2']\n",
    "# portfolio = portfolio.join(portfolio_mkt2, how='left')\n",
    "# portfolio['MKTWT2'].hist()\n",
    "# # Now this is much better behaved\n",
    "\n",
    "# rp_pos = portfolio[portfolio['PMWT']>0]\n",
    "# rp_neg = portfolio[portfolio['PMWT']<0]\n",
    "# rp_pos['RPWT'] = rp_pos['Total Volatility'].apply(lambda x: 1/x)\n",
    "# rp_neg['RPWT'] = rp_neg['Total Volatility'].apply(lambda x: 1/x)\n",
    "# rp_pos['RPWT'] = rp_pos['RPWT'] / rp_pos['RPWT'].sum()\n",
    "# rp_neg['RPWT'] = -1*rp_neg['RPWT'] / rp_neg['RPWT'].sum()\n",
    "# portfolio_rp = pd.concat([rp_pos, rp_neg])['RPWT']\n",
    "# portfolio = portfolio.join(portfolio_rp, how='left')"
   ],
   "metadata": {
    "collapsed": false
   },
   "id": "67a900c3a5614cb3"
  }
 ],
 "metadata": {
  "kernelspec": {
   "display_name": "Python 3",
   "language": "python",
   "name": "python3"
  },
  "language_info": {
   "codemirror_mode": {
    "name": "ipython",
    "version": 2
   },
   "file_extension": ".py",
   "mimetype": "text/x-python",
   "name": "python",
   "nbconvert_exporter": "python",
   "pygments_lexer": "ipython2",
   "version": "2.7.6"
  }
 },
 "nbformat": 4,
 "nbformat_minor": 5
}
