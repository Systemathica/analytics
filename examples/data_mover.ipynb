{
 "cells": [
  {
   "cell_type": "code",
   "execution_count": 1,
   "outputs": [],
   "source": [
    "import os\n",
    "import shutil\n",
    "\n",
    "def copy_filtered_files(src, dst, extensions):\n",
    "    \"\"\"\n",
    "    Copies files from src to dst, preserving the folder structure,\n",
    "    but only copying files with extensions in the extensions list.\n",
    "    \"\"\"\n",
    "    if not os.path.exists(dst):\n",
    "        os.makedirs(dst)\n",
    "\n",
    "    for root, dirs, files in os.walk(src):\n",
    "        # Determine the destination directory\n",
    "        dest_dir = os.path.join(dst, os.path.relpath(root, src))\n",
    "\n",
    "        # Create the destination directory if it doesn't exist\n",
    "        if not os.path.exists(dest_dir):\n",
    "            os.makedirs(dest_dir)\n",
    "\n",
    "        # Copy each file with the allowed extension\n",
    "        for file in files:\n",
    "            if any(file.endswith(ext) for ext in extensions):\n",
    "                src_file = os.path.join(root, file)\n",
    "                dst_file = os.path.join(dest_dir, file)\n",
    "                shutil.copy2(src_file, dst_file)\n",
    "\n",
    "# Example usage\n",
    "source_directory = r'C:\\Users\\raman\\OneDrive\\Desktop\\Doc\\Test'\n",
    "destination_directory = r'C:\\Users\\raman\\OneDrive\\Desktop\\Doc\\TestCopy'\n",
    "allowed_extensions = ['.pptx', '.xlsx', '.docx']  # Add or remove extensions as needed\n",
    "\n",
    "copy_filtered_files(source_directory, destination_directory, allowed_extensions)\n"
   ],
   "metadata": {
    "collapsed": false,
    "ExecuteTime": {
     "end_time": "2023-11-19T05:54:06.515130Z",
     "start_time": "2023-11-19T05:54:06.506854400Z"
    }
   },
   "id": "53327dfd995f3f33"
  },
  {
   "cell_type": "code",
   "execution_count": 2,
   "outputs": [
    {
     "ename": "PermissionError",
     "evalue": "[Errno 13] Permission denied: 'C:\\\\Users\\\\raman\\\\OneDrive\\\\Desktop\\\\Doc\\\\Test\\\\067_jobs_growth\\\\doc\\\\JobsGrowth.pptx'",
     "output_type": "error",
     "traceback": [
      "\u001B[1;31m---------------------------------------------------------------------------\u001B[0m",
      "\u001B[1;31mPermissionError\u001B[0m                           Traceback (most recent call last)",
      "Cell \u001B[1;32mIn[2], line 6\u001B[0m\n\u001B[0;32m      3\u001B[0m destination_directory \u001B[38;5;241m=\u001B[39m \u001B[38;5;124mr\u001B[39m\u001B[38;5;124m'\u001B[39m\u001B[38;5;124mC:\u001B[39m\u001B[38;5;124m\\\u001B[39m\u001B[38;5;124mUsers\u001B[39m\u001B[38;5;124m\\\u001B[39m\u001B[38;5;124mraman\u001B[39m\u001B[38;5;124m\\\u001B[39m\u001B[38;5;124mOneDrive\u001B[39m\u001B[38;5;124m\\\u001B[39m\u001B[38;5;124mDesktop\u001B[39m\u001B[38;5;124m\\\u001B[39m\u001B[38;5;124mDoc\u001B[39m\u001B[38;5;124m\\\u001B[39m\u001B[38;5;124mTestCopy\u001B[39m\u001B[38;5;124m'\u001B[39m\n\u001B[0;32m      4\u001B[0m allowed_extensions \u001B[38;5;241m=\u001B[39m [\u001B[38;5;124m'\u001B[39m\u001B[38;5;124m.pptx\u001B[39m\u001B[38;5;124m'\u001B[39m, \u001B[38;5;124m'\u001B[39m\u001B[38;5;124m.pdf\u001B[39m\u001B[38;5;124m'\u001B[39m, \u001B[38;5;124m'\u001B[39m\u001B[38;5;124m.docx\u001B[39m\u001B[38;5;124m'\u001B[39m]  \u001B[38;5;66;03m# Add or remove extensions as needed\u001B[39;00m\n\u001B[1;32m----> 6\u001B[0m \u001B[43mcopy_filtered_files\u001B[49m\u001B[43m(\u001B[49m\u001B[43msource_directory\u001B[49m\u001B[43m,\u001B[49m\u001B[43m \u001B[49m\u001B[43mdestination_directory\u001B[49m\u001B[43m,\u001B[49m\u001B[43m \u001B[49m\u001B[43mallowed_extensions\u001B[49m\u001B[43m)\u001B[49m\n",
      "Cell \u001B[1;32mIn[1], line 25\u001B[0m, in \u001B[0;36mcopy_filtered_files\u001B[1;34m(src, dst, extensions)\u001B[0m\n\u001B[0;32m     23\u001B[0m src_file \u001B[38;5;241m=\u001B[39m os\u001B[38;5;241m.\u001B[39mpath\u001B[38;5;241m.\u001B[39mjoin(root, file)\n\u001B[0;32m     24\u001B[0m dst_file \u001B[38;5;241m=\u001B[39m os\u001B[38;5;241m.\u001B[39mpath\u001B[38;5;241m.\u001B[39mjoin(dest_dir, file)\n\u001B[1;32m---> 25\u001B[0m \u001B[43mshutil\u001B[49m\u001B[38;5;241;43m.\u001B[39;49m\u001B[43mcopy2\u001B[49m\u001B[43m(\u001B[49m\u001B[43msrc_file\u001B[49m\u001B[43m,\u001B[49m\u001B[43m \u001B[49m\u001B[43mdst_file\u001B[49m\u001B[43m)\u001B[49m\n",
      "File \u001B[1;32mC:\\ProgramData\\anaconda3\\lib\\shutil.py:434\u001B[0m, in \u001B[0;36mcopy2\u001B[1;34m(src, dst, follow_symlinks)\u001B[0m\n\u001B[0;32m    432\u001B[0m \u001B[38;5;28;01mif\u001B[39;00m os\u001B[38;5;241m.\u001B[39mpath\u001B[38;5;241m.\u001B[39misdir(dst):\n\u001B[0;32m    433\u001B[0m     dst \u001B[38;5;241m=\u001B[39m os\u001B[38;5;241m.\u001B[39mpath\u001B[38;5;241m.\u001B[39mjoin(dst, os\u001B[38;5;241m.\u001B[39mpath\u001B[38;5;241m.\u001B[39mbasename(src))\n\u001B[1;32m--> 434\u001B[0m \u001B[43mcopyfile\u001B[49m\u001B[43m(\u001B[49m\u001B[43msrc\u001B[49m\u001B[43m,\u001B[49m\u001B[43m \u001B[49m\u001B[43mdst\u001B[49m\u001B[43m,\u001B[49m\u001B[43m \u001B[49m\u001B[43mfollow_symlinks\u001B[49m\u001B[38;5;241;43m=\u001B[39;49m\u001B[43mfollow_symlinks\u001B[49m\u001B[43m)\u001B[49m\n\u001B[0;32m    435\u001B[0m copystat(src, dst, follow_symlinks\u001B[38;5;241m=\u001B[39mfollow_symlinks)\n\u001B[0;32m    436\u001B[0m \u001B[38;5;28;01mreturn\u001B[39;00m dst\n",
      "File \u001B[1;32mC:\\ProgramData\\anaconda3\\lib\\shutil.py:254\u001B[0m, in \u001B[0;36mcopyfile\u001B[1;34m(src, dst, follow_symlinks)\u001B[0m\n\u001B[0;32m    252\u001B[0m     os\u001B[38;5;241m.\u001B[39msymlink(os\u001B[38;5;241m.\u001B[39mreadlink(src), dst)\n\u001B[0;32m    253\u001B[0m \u001B[38;5;28;01melse\u001B[39;00m:\n\u001B[1;32m--> 254\u001B[0m     \u001B[38;5;28;01mwith\u001B[39;00m \u001B[38;5;28;43mopen\u001B[39;49m\u001B[43m(\u001B[49m\u001B[43msrc\u001B[49m\u001B[43m,\u001B[49m\u001B[43m \u001B[49m\u001B[38;5;124;43m'\u001B[39;49m\u001B[38;5;124;43mrb\u001B[39;49m\u001B[38;5;124;43m'\u001B[39;49m\u001B[43m)\u001B[49m \u001B[38;5;28;01mas\u001B[39;00m fsrc:\n\u001B[0;32m    255\u001B[0m         \u001B[38;5;28;01mtry\u001B[39;00m:\n\u001B[0;32m    256\u001B[0m             \u001B[38;5;28;01mwith\u001B[39;00m \u001B[38;5;28mopen\u001B[39m(dst, \u001B[38;5;124m'\u001B[39m\u001B[38;5;124mwb\u001B[39m\u001B[38;5;124m'\u001B[39m) \u001B[38;5;28;01mas\u001B[39;00m fdst:\n\u001B[0;32m    257\u001B[0m                 \u001B[38;5;66;03m# macOS\u001B[39;00m\n",
      "\u001B[1;31mPermissionError\u001B[0m: [Errno 13] Permission denied: 'C:\\\\Users\\\\raman\\\\OneDrive\\\\Desktop\\\\Doc\\\\Test\\\\067_jobs_growth\\\\doc\\\\JobsGrowth.pptx'"
     ]
    }
   ],
   "source": [],
   "metadata": {
    "collapsed": false,
    "ExecuteTime": {
     "end_time": "2023-11-19T05:54:55.397645500Z",
     "start_time": "2023-11-19T05:54:09.842263800Z"
    }
   },
   "id": "2f6041d72be83637"
  },
  {
   "cell_type": "code",
   "execution_count": null,
   "outputs": [],
   "source": [],
   "metadata": {
    "collapsed": false
   },
   "id": "48a7a08c5159e0e"
  }
 ],
 "metadata": {
  "kernelspec": {
   "display_name": "Python 3",
   "language": "python",
   "name": "python3"
  },
  "language_info": {
   "codemirror_mode": {
    "name": "ipython",
    "version": 2
   },
   "file_extension": ".py",
   "mimetype": "text/x-python",
   "name": "python",
   "nbconvert_exporter": "python",
   "pygments_lexer": "ipython2",
   "version": "2.7.6"
  }
 },
 "nbformat": 4,
 "nbformat_minor": 5
}
